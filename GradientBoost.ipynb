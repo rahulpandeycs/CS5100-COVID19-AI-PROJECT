{
  "nbformat": 4,
  "nbformat_minor": 0,
  "metadata": {
    "colab": {
      "name": "GradientBoost.ipynb",
      "provenance": []
    },
    "kernelspec": {
      "name": "python3",
      "display_name": "Python 3"
    }
  },
  "cells": [
    {
      "cell_type": "markdown",
      "metadata": {
        "id": "JSS5r_Wl-gXI",
        "colab_type": "text"
      },
      "source": [
        "Required imports"
      ]
    },
    {
      "cell_type": "code",
      "metadata": {
        "id": "TQDN5RiiKTJK",
        "colab_type": "code",
        "colab": {}
      },
      "source": [
        "import numpy as np \n",
        "import pandas as pd\n",
        "import datetime  "
      ],
      "execution_count": 0,
      "outputs": []
    },
    {
      "cell_type": "markdown",
      "metadata": {
        "id": "m2QFJ-kC-kpV",
        "colab_type": "text"
      },
      "source": [
        "Reading COVID-19 data"
      ]
    },
    {
      "cell_type": "code",
      "metadata": {
        "id": "oorUepyFKaZB",
        "colab_type": "code",
        "outputId": "acd77db4-f4cb-4a3a-cdf2-ca28d0310428",
        "colab": {
          "base_uri": "https://localhost:8080/",
          "height": 68
        }
      },
      "source": [
        "data_frame = pd.read_csv(\"sample_data/covid_19_data.csv\")\n",
        "data_frame['Date'] = pd.to_datetime(data_frame['ObservationDate'])\n",
        "data_frame.columns"
      ],
      "execution_count": 3,
      "outputs": [
        {
          "output_type": "execute_result",
          "data": {
            "text/plain": [
              "Index(['SNo', 'ObservationDate', 'Province/State', 'Country/Region',\n",
              "       'Last Update', 'Confirmed', 'Deaths', 'Recovered', 'Date'],\n",
              "      dtype='object')"
            ]
          },
          "metadata": {
            "tags": []
          },
          "execution_count": 3
        }
      ]
    },
    {
      "cell_type": "markdown",
      "metadata": {
        "id": "mGuq2a_e-q3F",
        "colab_type": "text"
      },
      "source": [
        "Selecting only requuired columns"
      ]
    },
    {
      "cell_type": "code",
      "metadata": {
        "id": "9FykeNusKr7U",
        "colab_type": "code",
        "colab": {}
      },
      "source": [
        "columns = ['Province/State', 'Country/Region', 'Date', 'Confirmed', 'Deaths', 'Recovered']\n",
        "data_frame = data_frame[columns]\n",
        "data_frame = data_frame.reset_index(drop=True)"
      ],
      "execution_count": 0,
      "outputs": []
    },
    {
      "cell_type": "markdown",
      "metadata": {
        "id": "yEThfkto-w3g",
        "colab_type": "text"
      },
      "source": [
        "Filling default values where data was blank"
      ]
    },
    {
      "cell_type": "code",
      "metadata": {
        "id": "671jz8IrK-Ov",
        "colab_type": "code",
        "colab": {}
      },
      "source": [
        "data_frame['Province/State'] = data_frame['Province/State'].fillna('Others')\n",
        "data_frame['Confirmed'] = data_frame['Confirmed'].fillna(0)\n",
        "data_frame = data_frame.sort_values(['Country/Region','Province/State','Date'])"
      ],
      "execution_count": 0,
      "outputs": []
    },
    {
      "cell_type": "markdown",
      "metadata": {
        "id": "RNpzBxrd_XTh",
        "colab_type": "text"
      },
      "source": [
        "Aggregate conforemd cases Country/Region/Date wise"
      ]
    },
    {
      "cell_type": "code",
      "metadata": {
        "id": "aijl1hobLJj4",
        "colab_type": "code",
        "colab": {}
      },
      "source": [
        "data_frame = data_frame.groupby(['Country/Region','Province/State','Date']).agg({'Confirmed':'sum'}).reset_index()\n",
        "data_frame['Province/State'] = 'all'"
      ],
      "execution_count": 0,
      "outputs": []
    },
    {
      "cell_type": "code",
      "metadata": {
        "id": "oNdITKPLLoqk",
        "colab_type": "code",
        "outputId": "300951ac-4b20-4d57-c1dc-016f96c608fc",
        "colab": {
          "base_uri": "https://localhost:8080/",
          "height": 221
        }
      },
      "source": [
        "data_frame['Country/Region'].value_counts()"
      ],
      "execution_count": 7,
      "outputs": [
        {
          "output_type": "execute_result",
          "data": {
            "text/plain": [
              "Mainland China     1761\n",
              "US                 1388\n",
              "Australia           287\n",
              "Canada              208\n",
              "France               91\n",
              "                   ... \n",
              "Zambia                1\n",
              "('St. Martin',)       1\n",
              "Kyrgyzstan            1\n",
              "St. Martin            1\n",
              "Gambia, The           1\n",
              "Name: Country/Region, Length: 179, dtype: int64"
            ]
          },
          "metadata": {
            "tags": []
          },
          "execution_count": 7
        }
      ]
    },
    {
      "cell_type": "markdown",
      "metadata": {
        "id": "tTR_mazo_h-a",
        "colab_type": "text"
      },
      "source": [
        "Reading World data"
      ]
    },
    {
      "cell_type": "code",
      "metadata": {
        "id": "tlQJiPN2Lt7a",
        "colab_type": "code",
        "outputId": "a8768c6e-0070-4904-9502-fb50e55aeab8",
        "colab": {
          "base_uri": "https://localhost:8080/",
          "height": 694
        }
      },
      "source": [
        "world_data = pd.read_csv(\"sample_data/countries of the world.csv\")\n",
        "world_data['Country'] = world_data['Country'].str.strip()\n",
        "world_data"
      ],
      "execution_count": 8,
      "outputs": [
        {
          "output_type": "execute_result",
          "data": {
            "text/html": [
              "<div>\n",
              "<style scoped>\n",
              "    .dataframe tbody tr th:only-of-type {\n",
              "        vertical-align: middle;\n",
              "    }\n",
              "\n",
              "    .dataframe tbody tr th {\n",
              "        vertical-align: top;\n",
              "    }\n",
              "\n",
              "    .dataframe thead th {\n",
              "        text-align: right;\n",
              "    }\n",
              "</style>\n",
              "<table border=\"1\" class=\"dataframe\">\n",
              "  <thead>\n",
              "    <tr style=\"text-align: right;\">\n",
              "      <th></th>\n",
              "      <th>Country</th>\n",
              "      <th>Region</th>\n",
              "      <th>Population</th>\n",
              "      <th>Area (sq. mi.)</th>\n",
              "      <th>Pop. Density (per sq. mi.)</th>\n",
              "      <th>Coastline (coast/area ratio)</th>\n",
              "      <th>Net migration</th>\n",
              "      <th>Infant mortality (per 1000 births)</th>\n",
              "      <th>GDP ($ per capita)</th>\n",
              "      <th>Literacy (%)</th>\n",
              "      <th>Phones (per 1000)</th>\n",
              "      <th>Arable (%)</th>\n",
              "      <th>Crops (%)</th>\n",
              "      <th>Other (%)</th>\n",
              "      <th>Climate</th>\n",
              "      <th>Birthrate</th>\n",
              "      <th>Deathrate</th>\n",
              "      <th>Agriculture</th>\n",
              "      <th>Industry</th>\n",
              "      <th>Service</th>\n",
              "    </tr>\n",
              "  </thead>\n",
              "  <tbody>\n",
              "    <tr>\n",
              "      <th>0</th>\n",
              "      <td>Afghanistan</td>\n",
              "      <td>ASIA (EX. NEAR EAST)</td>\n",
              "      <td>31056997</td>\n",
              "      <td>647500</td>\n",
              "      <td>48,0</td>\n",
              "      <td>0,00</td>\n",
              "      <td>23,06</td>\n",
              "      <td>163,07</td>\n",
              "      <td>700.0</td>\n",
              "      <td>36,0</td>\n",
              "      <td>3,2</td>\n",
              "      <td>12,13</td>\n",
              "      <td>0,22</td>\n",
              "      <td>87,65</td>\n",
              "      <td>1</td>\n",
              "      <td>46,6</td>\n",
              "      <td>20,34</td>\n",
              "      <td>0,38</td>\n",
              "      <td>0,24</td>\n",
              "      <td>0,38</td>\n",
              "    </tr>\n",
              "    <tr>\n",
              "      <th>1</th>\n",
              "      <td>Albania</td>\n",
              "      <td>EASTERN EUROPE</td>\n",
              "      <td>3581655</td>\n",
              "      <td>28748</td>\n",
              "      <td>124,6</td>\n",
              "      <td>1,26</td>\n",
              "      <td>-4,93</td>\n",
              "      <td>21,52</td>\n",
              "      <td>4500.0</td>\n",
              "      <td>86,5</td>\n",
              "      <td>71,2</td>\n",
              "      <td>21,09</td>\n",
              "      <td>4,42</td>\n",
              "      <td>74,49</td>\n",
              "      <td>3</td>\n",
              "      <td>15,11</td>\n",
              "      <td>5,22</td>\n",
              "      <td>0,232</td>\n",
              "      <td>0,188</td>\n",
              "      <td>0,579</td>\n",
              "    </tr>\n",
              "    <tr>\n",
              "      <th>2</th>\n",
              "      <td>Algeria</td>\n",
              "      <td>NORTHERN AFRICA</td>\n",
              "      <td>32930091</td>\n",
              "      <td>2381740</td>\n",
              "      <td>13,8</td>\n",
              "      <td>0,04</td>\n",
              "      <td>-0,39</td>\n",
              "      <td>31</td>\n",
              "      <td>6000.0</td>\n",
              "      <td>70,0</td>\n",
              "      <td>78,1</td>\n",
              "      <td>3,22</td>\n",
              "      <td>0,25</td>\n",
              "      <td>96,53</td>\n",
              "      <td>1</td>\n",
              "      <td>17,14</td>\n",
              "      <td>4,61</td>\n",
              "      <td>0,101</td>\n",
              "      <td>0,6</td>\n",
              "      <td>0,298</td>\n",
              "    </tr>\n",
              "    <tr>\n",
              "      <th>3</th>\n",
              "      <td>American Samoa</td>\n",
              "      <td>OCEANIA</td>\n",
              "      <td>57794</td>\n",
              "      <td>199</td>\n",
              "      <td>290,4</td>\n",
              "      <td>58,29</td>\n",
              "      <td>-20,71</td>\n",
              "      <td>9,27</td>\n",
              "      <td>8000.0</td>\n",
              "      <td>97,0</td>\n",
              "      <td>259,5</td>\n",
              "      <td>10</td>\n",
              "      <td>15</td>\n",
              "      <td>75</td>\n",
              "      <td>2</td>\n",
              "      <td>22,46</td>\n",
              "      <td>3,27</td>\n",
              "      <td>NaN</td>\n",
              "      <td>NaN</td>\n",
              "      <td>NaN</td>\n",
              "    </tr>\n",
              "    <tr>\n",
              "      <th>4</th>\n",
              "      <td>Andorra</td>\n",
              "      <td>WESTERN EUROPE</td>\n",
              "      <td>71201</td>\n",
              "      <td>468</td>\n",
              "      <td>152,1</td>\n",
              "      <td>0,00</td>\n",
              "      <td>6,6</td>\n",
              "      <td>4,05</td>\n",
              "      <td>19000.0</td>\n",
              "      <td>100,0</td>\n",
              "      <td>497,2</td>\n",
              "      <td>2,22</td>\n",
              "      <td>0</td>\n",
              "      <td>97,78</td>\n",
              "      <td>3</td>\n",
              "      <td>8,71</td>\n",
              "      <td>6,25</td>\n",
              "      <td>NaN</td>\n",
              "      <td>NaN</td>\n",
              "      <td>NaN</td>\n",
              "    </tr>\n",
              "    <tr>\n",
              "      <th>...</th>\n",
              "      <td>...</td>\n",
              "      <td>...</td>\n",
              "      <td>...</td>\n",
              "      <td>...</td>\n",
              "      <td>...</td>\n",
              "      <td>...</td>\n",
              "      <td>...</td>\n",
              "      <td>...</td>\n",
              "      <td>...</td>\n",
              "      <td>...</td>\n",
              "      <td>...</td>\n",
              "      <td>...</td>\n",
              "      <td>...</td>\n",
              "      <td>...</td>\n",
              "      <td>...</td>\n",
              "      <td>...</td>\n",
              "      <td>...</td>\n",
              "      <td>...</td>\n",
              "      <td>...</td>\n",
              "      <td>...</td>\n",
              "    </tr>\n",
              "    <tr>\n",
              "      <th>222</th>\n",
              "      <td>West Bank</td>\n",
              "      <td>NEAR EAST</td>\n",
              "      <td>2460492</td>\n",
              "      <td>5860</td>\n",
              "      <td>419,9</td>\n",
              "      <td>0,00</td>\n",
              "      <td>2,98</td>\n",
              "      <td>19,62</td>\n",
              "      <td>800.0</td>\n",
              "      <td>NaN</td>\n",
              "      <td>145,2</td>\n",
              "      <td>16,9</td>\n",
              "      <td>18,97</td>\n",
              "      <td>64,13</td>\n",
              "      <td>3</td>\n",
              "      <td>31,67</td>\n",
              "      <td>3,92</td>\n",
              "      <td>0,09</td>\n",
              "      <td>0,28</td>\n",
              "      <td>0,63</td>\n",
              "    </tr>\n",
              "    <tr>\n",
              "      <th>223</th>\n",
              "      <td>Western Sahara</td>\n",
              "      <td>NORTHERN AFRICA</td>\n",
              "      <td>273008</td>\n",
              "      <td>266000</td>\n",
              "      <td>1,0</td>\n",
              "      <td>0,42</td>\n",
              "      <td>NaN</td>\n",
              "      <td>NaN</td>\n",
              "      <td>NaN</td>\n",
              "      <td>NaN</td>\n",
              "      <td>NaN</td>\n",
              "      <td>0,02</td>\n",
              "      <td>0</td>\n",
              "      <td>99,98</td>\n",
              "      <td>1</td>\n",
              "      <td>NaN</td>\n",
              "      <td>NaN</td>\n",
              "      <td>NaN</td>\n",
              "      <td>NaN</td>\n",
              "      <td>0,4</td>\n",
              "    </tr>\n",
              "    <tr>\n",
              "      <th>224</th>\n",
              "      <td>Yemen</td>\n",
              "      <td>NEAR EAST</td>\n",
              "      <td>21456188</td>\n",
              "      <td>527970</td>\n",
              "      <td>40,6</td>\n",
              "      <td>0,36</td>\n",
              "      <td>0</td>\n",
              "      <td>61,5</td>\n",
              "      <td>800.0</td>\n",
              "      <td>50,2</td>\n",
              "      <td>37,2</td>\n",
              "      <td>2,78</td>\n",
              "      <td>0,24</td>\n",
              "      <td>96,98</td>\n",
              "      <td>1</td>\n",
              "      <td>42,89</td>\n",
              "      <td>8,3</td>\n",
              "      <td>0,135</td>\n",
              "      <td>0,472</td>\n",
              "      <td>0,393</td>\n",
              "    </tr>\n",
              "    <tr>\n",
              "      <th>225</th>\n",
              "      <td>Zambia</td>\n",
              "      <td>SUB-SAHARAN AFRICA</td>\n",
              "      <td>11502010</td>\n",
              "      <td>752614</td>\n",
              "      <td>15,3</td>\n",
              "      <td>0,00</td>\n",
              "      <td>0</td>\n",
              "      <td>88,29</td>\n",
              "      <td>800.0</td>\n",
              "      <td>80,6</td>\n",
              "      <td>8,2</td>\n",
              "      <td>7,08</td>\n",
              "      <td>0,03</td>\n",
              "      <td>92,9</td>\n",
              "      <td>2</td>\n",
              "      <td>41</td>\n",
              "      <td>19,93</td>\n",
              "      <td>0,22</td>\n",
              "      <td>0,29</td>\n",
              "      <td>0,489</td>\n",
              "    </tr>\n",
              "    <tr>\n",
              "      <th>226</th>\n",
              "      <td>Zimbabwe</td>\n",
              "      <td>SUB-SAHARAN AFRICA</td>\n",
              "      <td>12236805</td>\n",
              "      <td>390580</td>\n",
              "      <td>31,3</td>\n",
              "      <td>0,00</td>\n",
              "      <td>0</td>\n",
              "      <td>67,69</td>\n",
              "      <td>1900.0</td>\n",
              "      <td>90,7</td>\n",
              "      <td>26,8</td>\n",
              "      <td>8,32</td>\n",
              "      <td>0,34</td>\n",
              "      <td>91,34</td>\n",
              "      <td>2</td>\n",
              "      <td>28,01</td>\n",
              "      <td>21,84</td>\n",
              "      <td>0,179</td>\n",
              "      <td>0,243</td>\n",
              "      <td>0,579</td>\n",
              "    </tr>\n",
              "  </tbody>\n",
              "</table>\n",
              "<p>227 rows × 20 columns</p>\n",
              "</div>"
            ],
            "text/plain": [
              "            Country                               Region  ...  Industry  Service\n",
              "0       Afghanistan        ASIA (EX. NEAR EAST)           ...      0,24     0,38\n",
              "1           Albania  EASTERN EUROPE                       ...     0,188    0,579\n",
              "2           Algeria  NORTHERN AFRICA                      ...       0,6    0,298\n",
              "3    American Samoa  OCEANIA                              ...       NaN      NaN\n",
              "4           Andorra  WESTERN EUROPE                       ...       NaN      NaN\n",
              "..              ...                                  ...  ...       ...      ...\n",
              "222       West Bank  NEAR EAST                            ...      0,28     0,63\n",
              "223  Western Sahara  NORTHERN AFRICA                      ...       NaN      0,4\n",
              "224           Yemen  NEAR EAST                            ...     0,472    0,393\n",
              "225          Zambia  SUB-SAHARAN AFRICA                   ...      0,29    0,489\n",
              "226        Zimbabwe  SUB-SAHARAN AFRICA                   ...     0,243    0,579\n",
              "\n",
              "[227 rows x 20 columns]"
            ]
          },
          "metadata": {
            "tags": []
          },
          "execution_count": 8
        }
      ]
    },
    {
      "cell_type": "markdown",
      "metadata": {
        "id": "tMiI5veW_lzX",
        "colab_type": "text"
      },
      "source": [
        "Combine world and COVID-19 data"
      ]
    },
    {
      "cell_type": "code",
      "metadata": {
        "id": "gUY_b87kL7Bk",
        "colab_type": "code",
        "colab": {}
      },
      "source": [
        "data_frame = pd.merge(data_frame, world_data, how='left', left_on=['Country/Region'], right_on=['Country'])\n",
        "data_frame['Date'] = pd.to_datetime(data_frame['Date'])"
      ],
      "execution_count": 0,
      "outputs": []
    },
    {
      "cell_type": "code",
      "metadata": {
        "id": "ExpRpJL5Mi-T",
        "colab_type": "code",
        "outputId": "ba0df153-464a-4d8f-ddf6-33bef1921c52",
        "colab": {
          "base_uri": "https://localhost:8080/",
          "height": 561
        }
      },
      "source": [
        "data_frame.loc[data_frame['Country'].isnull()]['Country/Region'].value_counts()"
      ],
      "execution_count": 10,
      "outputs": [
        {
          "output_type": "execute_result",
          "data": {
            "text/plain": [
              "Mainland China                    1761\n",
              "US                                1388\n",
              "UK                                  68\n",
              "South Korea                         57\n",
              "Others                              41\n",
              "North Macedonia                     22\n",
              "Bosnia and Herzegovina              14\n",
              "Holy See                             9\n",
              "Ivory Coast                          9\n",
              "Congo (Kinshasa)                     8\n",
              "occupied Palestinian territory       7\n",
              "Saint Barthelemy                     7\n",
              "Antigua and Barbuda                  6\n",
              "Trinidad and Tobago                  5\n",
              "Palestine                            5\n",
              "Eswatini                             5\n",
              "Kosovo                               4\n",
              "Congo (Brazzaville)                  4\n",
              "Vatican City                         4\n",
              "Central African Republic             4\n",
              "Republic of the Congo                3\n",
              "The Bahamas                          3\n",
              "Montenegro                           2\n",
              "Curacao                              2\n",
              "The Gambia                           2\n",
              "Channel Islands                      1\n",
              "('St. Martin',)                      1\n",
              "Republic of Ireland                  1\n",
              " Azerbaijan                          1\n",
              "St. Martin                           1\n",
              "North Ireland                        1\n",
              "Name: Country/Region, dtype: int64"
            ]
          },
          "metadata": {
            "tags": []
          },
          "execution_count": 10
        }
      ]
    },
    {
      "cell_type": "code",
      "metadata": {
        "id": "c-MeIdgMMpWF",
        "colab_type": "code",
        "colab": {}
      },
      "source": [
        "data_frame.loc[data_frame['Region'].isnull(), 'Region'] = 'Others'\n",
        "data_frame.loc[data_frame['Country'].isnull(), 'Country'] = 'Undefined'"
      ],
      "execution_count": 0,
      "outputs": []
    },
    {
      "cell_type": "code",
      "metadata": {
        "id": "HLslm3mfMu6o",
        "colab_type": "code",
        "outputId": "319b7996-9e09-4c72-9568-833ac55b165a",
        "colab": {
          "base_uri": "https://localhost:8080/",
          "height": 221
        }
      },
      "source": [
        "data_frame['Country'].value_counts()"
      ],
      "execution_count": 12,
      "outputs": [
        {
          "output_type": "execute_result",
          "data": {
            "text/plain": [
              "Undefined      3446\n",
              "Australia       287\n",
              "Canada          208\n",
              "France           91\n",
              "Taiwan           57\n",
              "               ... \n",
              "Gambia, The       1\n",
              "Mauritius         1\n",
              "Djibouti          1\n",
              "Zambia            1\n",
              "Kyrgyzstan        1\n",
              "Name: Country, Length: 149, dtype: int64"
            ]
          },
          "metadata": {
            "tags": []
          },
          "execution_count": 12
        }
      ]
    },
    {
      "cell_type": "code",
      "metadata": {
        "id": "AscNEHQDM0EJ",
        "colab_type": "code",
        "colab": {}
      },
      "source": [
        "from sklearn.preprocessing import MinMaxScaler\n",
        "original_confirmed = data_frame['Confirmed']\n",
        "transformer = MinMaxScaler(feature_range=(0,1)).fit(np.asarray([0, 2E5]).reshape(-1,1))\n",
        "tranformed_confirmed = pd.Series(transformer.transform(original_confirmed.values.reshape(-1,1)).reshape(-1))\n",
        "data_frame['Confirmed_transformed'] = tranformed_confirmed"
      ],
      "execution_count": 0,
      "outputs": []
    },
    {
      "cell_type": "markdown",
      "metadata": {
        "id": "dT6w5Rp2_tYO",
        "colab_type": "text"
      },
      "source": [
        "Encoding text data"
      ]
    },
    {
      "cell_type": "code",
      "metadata": {
        "id": "kS7DsKz_NO1g",
        "colab_type": "code",
        "colab": {}
      },
      "source": [
        "from sklearn.preprocessing import LabelEncoder\n",
        "\n",
        "encoded_country = LabelEncoder().fit(data_frame['Country/Region'])\n",
        "data_frame['encoded_country'] = encoded_country.transform(data_frame['Country/Region'])\n",
        "encoded_region = LabelEncoder().fit(data_frame['Region'])\n",
        "data_frame['encoded_region'] = encoded_region.transform(data_frame['Region'])"
      ],
      "execution_count": 0,
      "outputs": []
    },
    {
      "cell_type": "markdown",
      "metadata": {
        "id": "CiSNQOlX_xr_",
        "colab_type": "text"
      },
      "source": [
        "Spitting into train and test data"
      ]
    },
    {
      "cell_type": "code",
      "metadata": {
        "id": "QZyaFGQyOo1u",
        "colab_type": "code",
        "outputId": "83be89eb-591c-4d1e-a2d8-d4a14d44aaf7",
        "colab": {
          "base_uri": "https://localhost:8080/",
          "height": 34
        }
      },
      "source": [
        "from sklearn.model_selection import train_test_split\n",
        "train_data = data_frame.loc[data_frame['Confirmed'] > 50].copy()\n",
        "print(f'Train Data shape {train_data.shape}')\n",
        "train, valid = train_test_split(train_data, test_size=0.2, shuffle=True, random_state=200000)"
      ],
      "execution_count": 15,
      "outputs": [
        {
          "output_type": "stream",
          "text": [
            "Train Data shape (2271, 27)\n"
          ],
          "name": "stdout"
        }
      ]
    },
    {
      "cell_type": "markdown",
      "metadata": {
        "id": "k9SoNqsj_2af",
        "colab_type": "text"
      },
      "source": [
        "Fitting data into LGBM model"
      ]
    },
    {
      "cell_type": "code",
      "metadata": {
        "id": "PPS2XZH1PKxM",
        "colab_type": "code",
        "outputId": "4861bdd4-8a61-4976-ab57-2bfc2892dca7",
        "colab": {
          "base_uri": "https://localhost:8080/",
          "height": 476
        }
      },
      "source": [
        "from lightgbm import LGBMRegressor    \n",
        "model = LGBMRegressor(n_estimators=200, metric='mae', min_child_samples=5, min_child_weight=0.001)\n",
        "#model_lgbm = LGBMRegressor(n_estimators=200, random_state=1000, min_child_samples=5, min_child_weight=0.000001)\n",
        "#model_lgbm = LGBMRegressor(n_estimators=200, metric='mae', min_child_samples=5, min_child_weight=0.000001)\n",
        "#model_lgbm = LGBMRegressor(n_estimators=200, metric='mae', min_child_samples=10, min_child_weight=0.000001)\n",
        "\n",
        "confirmed_1 = ['Confirmed']\n",
        "confirmed_2 = ['Confirmed_transformed']\n",
        "\n",
        "model.fit(X=train[confirmed_1+confirmed_2], y=train['Confirmed'], \n",
        "               eval_set=(valid[confirmed_1+confirmed_2], valid['Confirmed']),\n",
        "               early_stopping_rounds=100, verbose=10)"
      ],
      "execution_count": 16,
      "outputs": [
        {
          "output_type": "stream",
          "text": [
            "Training until validation scores don't improve for 100 rounds.\n",
            "[10]\tvalid_0's l1: 1085.48\n",
            "[20]\tvalid_0's l1: 372.012\n",
            "[30]\tvalid_0's l1: 148.928\n",
            "[40]\tvalid_0's l1: 93.9282\n",
            "[50]\tvalid_0's l1: 79.9089\n",
            "[60]\tvalid_0's l1: 75.2717\n",
            "[70]\tvalid_0's l1: 73.7761\n",
            "[80]\tvalid_0's l1: 74.0701\n",
            "[90]\tvalid_0's l1: 74.1816\n",
            "[100]\tvalid_0's l1: 74.226\n",
            "[110]\tvalid_0's l1: 74.1989\n",
            "[120]\tvalid_0's l1: 74.181\n",
            "[130]\tvalid_0's l1: 74.1523\n",
            "[140]\tvalid_0's l1: 74.1145\n",
            "[150]\tvalid_0's l1: 74.102\n",
            "[160]\tvalid_0's l1: 74.0241\n",
            "[170]\tvalid_0's l1: 73.9338\n",
            "Early stopping, best iteration is:\n",
            "[70]\tvalid_0's l1: 73.7761\n"
          ],
          "name": "stdout"
        },
        {
          "output_type": "execute_result",
          "data": {
            "text/plain": [
              "LGBMRegressor(boosting_type='gbdt', class_weight=None, colsample_bytree=1.0,\n",
              "              importance_type='split', learning_rate=0.1, max_depth=-1,\n",
              "              metric='mae', min_child_samples=5, min_child_weight=0.001,\n",
              "              min_split_gain=0.0, n_estimators=200, n_jobs=-1, num_leaves=31,\n",
              "              objective=None, random_state=None, reg_alpha=0.0, reg_lambda=0.0,\n",
              "              silent=True, subsample=1.0, subsample_for_bin=200000,\n",
              "              subsample_freq=0)"
            ]
          },
          "metadata": {
            "tags": []
          },
          "execution_count": 16
        }
      ]
    },
    {
      "cell_type": "markdown",
      "metadata": {
        "id": "hIb7SGtu_8ja",
        "colab_type": "text"
      },
      "source": [
        "Predicting Data"
      ]
    },
    {
      "cell_type": "code",
      "metadata": {
        "id": "3eE3sR9VPWwZ",
        "colab_type": "code",
        "outputId": "d58cb957-e6eb-4e99-9bb1-db269a87a5a9",
        "colab": {
          "base_uri": "https://localhost:8080/",
          "height": 34
        }
      },
      "source": [
        "italy_data = data_frame.loc[(data_frame['Confirmed'] > 0) & (data_frame['Country/Region']=='Italy')]\n",
        "last_day_data = italy_data.iloc[-1]\n",
        "\n",
        "# print(nextDay.count)\n",
        "# print(nextDay['Confirmed'])\n",
        "# print(history0['Date'])\n",
        "\n",
        "confimed = last_day_data[confirmed_1].values\n",
        "transformed = last_day_data[confirmed_2].values\n",
        "confirmed_yesterday = last_day_data['Confirmed']\n",
        "next_day_confirmed = model.predict(np.hstack([confimed, transformed]).reshape(1,-1))[0]\n",
        "print(f'Total Confimred Tommorrow- {next_day_confirmed}')"
      ],
      "execution_count": 17,
      "outputs": [
        {
          "output_type": "stream",
          "text": [
            "Total Confimred Tommorrow- 39080.11740453535\n"
          ],
          "name": "stdout"
        }
      ]
    }
  ]
}