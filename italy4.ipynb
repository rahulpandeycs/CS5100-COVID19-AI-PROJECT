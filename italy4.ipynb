{
  "nbformat": 4,
  "nbformat_minor": 0,
  "metadata": {
    "colab": {
      "name": "italy4.ipynb",
      "provenance": []
    },
    "kernelspec": {
      "name": "python3",
      "display_name": "Python 3"
    }
  },
  "cells": [
    {
      "cell_type": "code",
      "metadata": {
        "id": "TQDN5RiiKTJK",
        "colab_type": "code",
        "colab": {}
      },
      "source": [
        "import numpy as np \n",
        "import pandas as pd\n",
        "import datetime  "
      ],
      "execution_count": 0,
      "outputs": []
    },
    {
      "cell_type": "code",
      "metadata": {
        "id": "oorUepyFKaZB",
        "colab_type": "code",
        "colab": {}
      },
      "source": [
        "data_frame = pd.read_csv(\"sample_data/covid_19_data.csv\")\n",
        "data_frame['Date'] = pd.to_datetime(data_frame['ObservationDate'])\n",
        "data_frame['Outbreak'] = 'COVID_2019'\n",
        "data_frame.columns"
      ],
      "execution_count": 0,
      "outputs": []
    },
    {
      "cell_type": "code",
      "metadata": {
        "id": "9FykeNusKr7U",
        "colab_type": "code",
        "colab": {}
      },
      "source": [
        "columns = ['Outbreak', 'Province/State', 'Country/Region', 'Date', 'Confirmed', 'Deaths', 'Recovered']\n",
        "data_frame = data_frame[columns]\n",
        "data_frame = data_frame.reset_index(drop=True)"
      ],
      "execution_count": 0,
      "outputs": []
    },
    {
      "cell_type": "code",
      "metadata": {
        "id": "671jz8IrK-Ov",
        "colab_type": "code",
        "colab": {}
      },
      "source": [
        "data_frame['Province/State'] = data_frame['Province/State'].fillna('Others')\n",
        "data_frame['Confirmed'] = data_frame['Confirmed'].fillna(0)\n",
        "data_frame = data_frame.sort_values(['Country/Region','Province/State','Date'])"
      ],
      "execution_count": 0,
      "outputs": []
    },
    {
      "cell_type": "code",
      "metadata": {
        "id": "aijl1hobLJj4",
        "colab_type": "code",
        "colab": {}
      },
      "source": [
        "data_frame = data_frame.groupby(['Outbreak','Country/Region','Province/State','Date']).agg({'Confirmed':'sum'}).reset_index()\n",
        "data_frame['Province/State'] = 'all'"
      ],
      "execution_count": 0,
      "outputs": []
    },
    {
      "cell_type": "code",
      "metadata": {
        "id": "oNdITKPLLoqk",
        "colab_type": "code",
        "colab": {}
      },
      "source": [
        "data_frame['Country/Region'].value_counts()"
      ],
      "execution_count": 0,
      "outputs": []
    },
    {
      "cell_type": "code",
      "metadata": {
        "id": "tlQJiPN2Lt7a",
        "colab_type": "code",
        "colab": {}
      },
      "source": [
        "world_data = pd.read_csv(\"sample_data/countries of the world.csv\")\n",
        "world_data['Country'] = world_data['Country'].str.strip()\n",
        "world_data"
      ],
      "execution_count": 0,
      "outputs": []
    },
    {
      "cell_type": "code",
      "metadata": {
        "id": "gUY_b87kL7Bk",
        "colab_type": "code",
        "colab": {}
      },
      "source": [
        "data_frame = pd.merge(data_frame, world_data, how='left', left_on=['Country/Region'], right_on=['Country'])\n",
        "data_frame['Date'] = pd.to_datetime(data_frame['Date'])"
      ],
      "execution_count": 0,
      "outputs": []
    },
    {
      "cell_type": "code",
      "metadata": {
        "id": "ExpRpJL5Mi-T",
        "colab_type": "code",
        "colab": {}
      },
      "source": [
        "data_frame.loc[data_frame['Country'].isnull()]['Country/Region'].value_counts()"
      ],
      "execution_count": 0,
      "outputs": []
    },
    {
      "cell_type": "code",
      "metadata": {
        "id": "c-MeIdgMMpWF",
        "colab_type": "code",
        "colab": {}
      },
      "source": [
        "data_frame.loc[data_frame['Region'].isnull(), 'Region'] = 'Others'\n",
        "data_frame.loc[data_frame['Country'].isnull(), 'Country'] = 'Undefined'"
      ],
      "execution_count": 0,
      "outputs": []
    },
    {
      "cell_type": "code",
      "metadata": {
        "id": "HLslm3mfMu6o",
        "colab_type": "code",
        "colab": {}
      },
      "source": [
        "data_frame['Country'].value_counts()"
      ],
      "execution_count": 0,
      "outputs": []
    },
    {
      "cell_type": "code",
      "metadata": {
        "id": "AscNEHQDM0EJ",
        "colab_type": "code",
        "colab": {}
      },
      "source": [
        "from sklearn.preprocessing import MinMaxScaler\n",
        "original_confirmed = data_frame['Confirmed']\n",
        "transformer = MinMaxScaler(feature_range=(0,1)).fit(np.asarray([0, 2E5]).reshape(-1,1))\n",
        "tranformed_confirmed = pd.Series(transformer.transform(original_confirmed.values.reshape(-1,1)).reshape(-1))\n",
        "data_frame['Confirmed_transformed'] = tranformed_confirmed"
      ],
      "execution_count": 0,
      "outputs": []
    },
    {
      "cell_type": "code",
      "metadata": {
        "id": "kS7DsKz_NO1g",
        "colab_type": "code",
        "colab": {}
      },
      "source": [
        "from sklearn.preprocessing import LabelEncoder\n",
        "\n",
        "encoded_country = LabelEncoder().fit(data_frame['Country/Region'])\n",
        "data_frame['encoded_country'] = encoded_country.transform(data_frame['Country/Region'])\n",
        "\n",
        "encoded_outbreak = LabelEncoder().fit(data_frame['Outbreak'])\n",
        "data_frame['encoded_outbreak'] = encoded_outbreak.transform(data_frame['Outbreak'])\n",
        "\n",
        "\n",
        "encoded_region = LabelEncoder().fit(data_frame['Region'])\n",
        "data_frame['encoded_region'] = encoded_region.transform(data_frame['Region'])"
      ],
      "execution_count": 0,
      "outputs": []
    },
    {
      "cell_type": "code",
      "metadata": {
        "id": "QZyaFGQyOo1u",
        "colab_type": "code",
        "colab": {
          "base_uri": "https://localhost:8080/",
          "height": 34
        },
        "outputId": "16777ef2-8188-435a-affe-b0ff08326833"
      },
      "source": [
        "from sklearn.model_selection import train_test_split\n",
        "train_data = data_frame.loc[data_frame['Confirmed'] > 50].copy()\n",
        "print(f'Train Data shape {train_data.shape}')\n",
        "train, valid = train_test_split(train_data, test_size=0.2, shuffle=True, random_state=200000)"
      ],
      "execution_count": 63,
      "outputs": [
        {
          "output_type": "stream",
          "text": [
            "Train Data shape (2271, 72)\n"
          ],
          "name": "stdout"
        }
      ]
    },
    {
      "cell_type": "code",
      "metadata": {
        "id": "PPS2XZH1PKxM",
        "colab_type": "code",
        "colab": {}
      },
      "source": [
        "from lightgbm import LGBMRegressor    \n",
        "model = LGBMRegressor(n_estimators=200, metric='mae', min_child_samples=5, min_child_weight=0.001)\n",
        "#model_lgbm = LGBMRegressor(n_estimators=200, random_state=1234, min_child_samples=5, min_child_weight=0.000001)\n",
        "#model_lgbm = LGBMRegressor(n_estimators=200, metric='mae', min_child_samples=5, min_child_weight=0.000001)\n",
        "#model_lgbm = LGBMRegressor(n_estimators=200, metric='mae', min_child_samples=10, min_child_weight=0.000001)\n",
        "#print(f'Fitting on data with shape {train['Confirmed', 'Confirmed_transformed'].shape} with validation of shape {valid[X_mask_cat+X_mask_lags].shape}')\n",
        "\n",
        "confirmed_1 = ['Confirmed']\n",
        "confirmed_2 = ['Confirmed_transformed']\n",
        "\n",
        "model.fit(X=train[confirmed_1+confirmed_2], y=train['Confirmed'], \n",
        "               eval_set=(valid[confirmed_1+confirmed_2], valid['Confirmed']),\n",
        "               early_stopping_rounds=100, verbose=10)"
      ],
      "execution_count": 0,
      "outputs": []
    },
    {
      "cell_type": "code",
      "metadata": {
        "id": "3eE3sR9VPWwZ",
        "colab_type": "code",
        "colab": {
          "base_uri": "https://localhost:8080/",
          "height": 51
        },
        "outputId": "cfa25a05-fa40-483a-8cb5-afee38f6aa74"
      },
      "source": [
        "italy_data = data_frame.loc[(data_frame['Outbreak']=='COVID_2019') & (data_frame['Confirmed'] > 0) & (data_frame['Country/Region']=='Italy')]\n",
        "# nextDay = valid.loc[(df['Outbreak']=='COVID_2019') & (df['Confirmed'] > 0) & (df['Country/Region']=='Italy')]\n",
        "# print(nextDay['Date'])\n",
        "last_day_data = italy_data.iloc[-1]\n",
        "#nextDay1 = nextDay.iloc[-1]\n",
        "# print(nextDay.count)\n",
        "# print(nextDay['Confirmed'])\n",
        "# print(history0['Date'])\n",
        "confimed = last_day_data[confirmed_1].values\n",
        "transformed = last_day_data[confirmed_2].values\n",
        "y = last_day_data['Confirmed']\n",
        "print(y)\n",
        "next_day_confirmed = model.predict(np.hstack([confimed, transformed]).reshape(1,-1))[0]\n",
        "print(next_day_confirmed)"
      ],
      "execution_count": 65,
      "outputs": [
        {
          "output_type": "stream",
          "text": [
            "35713.0\n",
            "39080.11740453535\n"
          ],
          "name": "stdout"
        }
      ]
    }
  ]
}