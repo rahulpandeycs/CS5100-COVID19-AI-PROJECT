{
  "nbformat": 4,
  "nbformat_minor": 0,
  "metadata": {
    "colab": {
      "name": "CS5100-COVID19-AI-Project.ipynb",
      "provenance": [],
      "collapsed_sections": [],
      "authorship_tag": "ABX9TyNbqJgNqllZI8GCYKh74mtO",
      "include_colab_link": true
    },
    "kernelspec": {
      "name": "python3",
      "display_name": "Python 3"
    }
  },
  "cells": [
    {
      "cell_type": "markdown",
      "metadata": {
        "id": "view-in-github",
        "colab_type": "text"
      },
      "source": [
        "<a href=\"https://colab.research.google.com/github/rahulpandeycs/CS5100-COVID19-AI-PROJECT/blob/master/CS5100_COVID19_AI_Project.ipynb\" target=\"_parent\"><img src=\"https://colab.research.google.com/assets/colab-badge.svg\" alt=\"Open In Colab\"/></a>"
      ]
    },
    {
      "cell_type": "code",
      "metadata": {
        "id": "Q57l8sEbE3tU",
        "colab_type": "code",
        "colab": {}
      },
      "source": [
        "import numpy as np # linear algebra\n",
        "import pandas as pd # data processing, I/O for CSV files\n",
        "import os\n",
        "import matplotlib.pyplot as plt\n",
        "import matplotlib.ticker as ticker\n",
        "import time\n",
        "import datetime as dt\n",
        "from datetime import date\n",
        "import warnings"
      ],
      "execution_count": 0,
      "outputs": []
    },
    {
      "cell_type": "markdown",
      "metadata": {
        "id": "nFCgG2GyKSmh",
        "colab_type": "text"
      },
      "source": [
        "View the list of input data"
      ]
    },
    {
      "cell_type": "code",
      "metadata": {
        "id": "WtKoTJJ7JvSc",
        "colab_type": "code",
        "colab": {
          "base_uri": "https://localhost:8080/",
          "height": 126
        },
        "outputId": "dac8d469-c069-429d-f0d0-a9853405fa88"
      },
      "source": [
        "for dirname, _, filenames in os.walk('data/'):\n",
        "    for filename in filenames:\n",
        "        print(os.path.join(dirname, filename))\n",
        "warnings.filterwarnings('ignore')"
      ],
      "execution_count": 2,
      "outputs": [
        {
          "output_type": "stream",
          "text": [
            "data/time_series_covid_19_deaths.csv\n",
            "data/time_series_covid_19_confirmed.csv\n",
            "data/COVID19_open_line_list.csv\n",
            "data/covid_19_data.csv\n",
            "data/COVID19_line_list_data.csv\n",
            "data/time_series_covid_19_recovered.csv\n"
          ],
          "name": "stdout"
        }
      ]
    },
    {
      "cell_type": "markdown",
      "metadata": {
        "id": "qO9q4WPWsCA6",
        "colab_type": "text"
      },
      "source": [
        "Dropping unnecessary columns"
      ]
    },
    {
      "cell_type": "code",
      "metadata": {
        "id": "UNxWdAJHKb83",
        "colab_type": "code",
        "colab": {}
      },
      "source": [
        "Y2019_dataset_path = 'data/covid_19_data.csv'\n",
        "Y2019_data = pd.read_csv(Y2019_dataset_path)"
      ],
      "execution_count": 0,
      "outputs": []
    },
    {
      "cell_type": "markdown",
      "metadata": {
        "id": "EKFxokqCzi6k",
        "colab_type": "text"
      },
      "source": [
        "Preprocessing data"
      ]
    },
    {
      "cell_type": "code",
      "metadata": {
        "id": "Kt7Vf-T1zlBd",
        "colab_type": "code",
        "colab": {
          "base_uri": "https://localhost:8080/",
          "height": 206
        },
        "outputId": "0b0f0734-9c9c-4514-8992-139500147e7e"
      },
      "source": [
        "Y2019_data['Last Update'] = pd.to_datetime(Y2019_data['Last Update'])\n",
        "Y2019_data['Outbreak'] = 'COVID-19'\n",
        "Y2019_data.drop(['SNo'], axis = 1, inplace = True)\n",
        "Y2019_data.tail()"
      ],
      "execution_count": 4,
      "outputs": [
        {
          "output_type": "execute_result",
          "data": {
            "text/html": [
              "<div>\n",
              "<style scoped>\n",
              "    .dataframe tbody tr th:only-of-type {\n",
              "        vertical-align: middle;\n",
              "    }\n",
              "\n",
              "    .dataframe tbody tr th {\n",
              "        vertical-align: top;\n",
              "    }\n",
              "\n",
              "    .dataframe thead th {\n",
              "        text-align: right;\n",
              "    }\n",
              "</style>\n",
              "<table border=\"1\" class=\"dataframe\">\n",
              "  <thead>\n",
              "    <tr style=\"text-align: right;\">\n",
              "      <th></th>\n",
              "      <th>ObservationDate</th>\n",
              "      <th>Province/State</th>\n",
              "      <th>Country/Region</th>\n",
              "      <th>Last Update</th>\n",
              "      <th>Confirmed</th>\n",
              "      <th>Deaths</th>\n",
              "      <th>Recovered</th>\n",
              "      <th>Outbreak</th>\n",
              "    </tr>\n",
              "  </thead>\n",
              "  <tbody>\n",
              "    <tr>\n",
              "      <th>9730</th>\n",
              "      <td>03/28/2020</td>\n",
              "      <td>Wyoming</td>\n",
              "      <td>US</td>\n",
              "      <td>2020-03-28 23:11:06</td>\n",
              "      <td>82.0</td>\n",
              "      <td>0.0</td>\n",
              "      <td>0.0</td>\n",
              "      <td>COVID-19</td>\n",
              "    </tr>\n",
              "    <tr>\n",
              "      <th>9731</th>\n",
              "      <td>03/28/2020</td>\n",
              "      <td>Xinjiang</td>\n",
              "      <td>Mainland China</td>\n",
              "      <td>2020-03-28 23:11:06</td>\n",
              "      <td>76.0</td>\n",
              "      <td>3.0</td>\n",
              "      <td>73.0</td>\n",
              "      <td>COVID-19</td>\n",
              "    </tr>\n",
              "    <tr>\n",
              "      <th>9732</th>\n",
              "      <td>03/28/2020</td>\n",
              "      <td>Yukon</td>\n",
              "      <td>Canada</td>\n",
              "      <td>2020-03-28 23:11:06</td>\n",
              "      <td>4.0</td>\n",
              "      <td>0.0</td>\n",
              "      <td>0.0</td>\n",
              "      <td>COVID-19</td>\n",
              "    </tr>\n",
              "    <tr>\n",
              "      <th>9733</th>\n",
              "      <td>03/28/2020</td>\n",
              "      <td>Yunnan</td>\n",
              "      <td>Mainland China</td>\n",
              "      <td>2020-03-28 23:11:06</td>\n",
              "      <td>180.0</td>\n",
              "      <td>2.0</td>\n",
              "      <td>172.0</td>\n",
              "      <td>COVID-19</td>\n",
              "    </tr>\n",
              "    <tr>\n",
              "      <th>9734</th>\n",
              "      <td>03/28/2020</td>\n",
              "      <td>Zhejiang</td>\n",
              "      <td>Mainland China</td>\n",
              "      <td>2020-03-28 23:11:06</td>\n",
              "      <td>1251.0</td>\n",
              "      <td>1.0</td>\n",
              "      <td>1225.0</td>\n",
              "      <td>COVID-19</td>\n",
              "    </tr>\n",
              "  </tbody>\n",
              "</table>\n",
              "</div>"
            ],
            "text/plain": [
              "     ObservationDate Province/State  ... Recovered  Outbreak\n",
              "9730      03/28/2020        Wyoming  ...       0.0  COVID-19\n",
              "9731      03/28/2020       Xinjiang  ...      73.0  COVID-19\n",
              "9732      03/28/2020          Yukon  ...       0.0  COVID-19\n",
              "9733      03/28/2020         Yunnan  ...     172.0  COVID-19\n",
              "9734      03/28/2020       Zhejiang  ...    1225.0  COVID-19\n",
              "\n",
              "[5 rows x 8 columns]"
            ]
          },
          "metadata": {
            "tags": []
          },
          "execution_count": 4
        }
      ]
    },
    {
      "cell_type": "markdown",
      "metadata": {
        "id": "H-bZ6pndxUV2",
        "colab_type": "text"
      },
      "source": [
        "Feature Engineering: Imputation (Numerical and Categorical), Encoding, Scaling, Normalization, Log Transform*, "
      ]
    },
    {
      "cell_type": "code",
      "metadata": {
        "id": "EIjwJGDfzs5U",
        "colab_type": "code",
        "colab": {}
      },
      "source": [
        "#Numerical Imputation\n",
        "Y2019_data['Confirmed'] = Y2019_data['Confirmed'].fillna(0)\n",
        "#Filling missing values with medians of the columns, not relevant here\n",
        "#data = data.fillna(data.median())\n",
        "\n",
        "#Categorical Imputation\n",
        "Y2019_data['Province/State'] = Y2019_data['Province/State'].fillna('others')\n",
        "\n",
        "#Max fill function for categorical columns, not relevant here\n",
        "#data['column_name'].fillna(data['column_name'].value_counts().idxmax(), inplace=True)\n",
        "\n",
        "Y2019_data = Y2019_data.sort_values(['Country/Region', 'Province/State','Last Update'])"
      ],
      "execution_count": 0,
      "outputs": []
    },
    {
      "cell_type": "code",
      "metadata": {
        "id": "5iYsMArU2-Ni",
        "colab_type": "code",
        "colab": {
          "base_uri": "https://localhost:8080/",
          "height": 376
        },
        "outputId": "bc3a15d7-4a29-4b61-b200-ef253e0b3997"
      },
      "source": [
        "# Rename items\n",
        "\n",
        "fix, ax = plt.subplots(figsize=(16,6), ncols=2)\n",
        "s0 = Y2019_data['Confirmed']\n",
        "s0.plot.hist(ax=ax[0])\n",
        "\n",
        "# BoxCox\n",
        "from sklearn.preprocessing import PowerTransformer\n",
        "transformer = PowerTransformer(method='box-cox', standardize=True)\n",
        "s0 = s0+1\n",
        "\n",
        "# Normalise and reshape\n",
        "from sklearn.preprocessing import FunctionTransformer\n",
        "transformer = FunctionTransformer(np.log1p, inverse_func=np.expm1, validate=True)\n",
        "\n",
        "from sklearn.preprocessing import MinMaxScaler\n",
        "transformer = MinMaxScaler(feature_range=(0,1)).fit(np.asarray([0, 2E5]).reshape(-1,1)) # df['Confirmed'].values.reshape(-1,1)\n",
        "\n",
        "s1 = pd.Series(transformer.transform(s0.values.reshape(-1,1)).reshape(-1))\n",
        "s1.plot.hist(ax=ax[1])\n",
        "Y2019_data['Confirmed_transformed'] = s1 # make sure that every value is positive"
      ],
      "execution_count": 6,
      "outputs": [
        {
          "output_type": "display_data",
          "data": {
            "image/png": "[encoded data removed]",
            "text/plain": [
              "<Figure size 1152x432 with 2 Axes>"
            ]
          },
          "metadata": {
            "tags": []
          }
        }
      ]
    },
    {
      "cell_type": "code",
      "metadata": {
        "id": "QHf05EKfGKP5",
        "colab_type": "code",
        "colab": {}
      },
      "source": [
        "Y2019_data['Month'] = Y2019_data['Last Update'].dt.month\n",
        "Y2019_data['Week'] = Y2019_data['Last Update'].dt.week"
      ],
      "execution_count": 0,
      "outputs": []
    },
    {
      "cell_type": "markdown",
      "metadata": {
        "id": "u9RMFzuNyLMP",
        "colab_type": "text"
      },
      "source": [
        "Label Encoding"
      ]
    },
    {
      "cell_type": "code",
      "metadata": {
        "id": "uoek9nP-yNjs",
        "colab_type": "code",
        "colab": {}
      },
      "source": [
        "from sklearn.preprocessing import LabelEncoder\n",
        "outbreak_Encode = LabelEncoder().fit(Y2019_data['Outbreak'])\n",
        "Y2019_data['Outbreak_Encode'] = outbreak_Encode.transform(Y2019_data['Outbreak'])\n",
        "\n",
        "country_Encode = LabelEncoder().fit(Y2019_data['Country/Region'])\n",
        "Y2019_data['Country_Encode'] = country_Encode.transform(Y2019_data['Country/Region'])"
      ],
      "execution_count": 0,
      "outputs": []
    },
    {
      "cell_type": "markdown",
      "metadata": {
        "id": "Jf-caE1SsOay",
        "colab_type": "text"
      },
      "source": [
        "List of affected countries:"
      ]
    },
    {
      "cell_type": "code",
      "metadata": {
        "id": "PtruEVLAR2dn",
        "colab_type": "code",
        "outputId": "5a43a50e-46bc-460b-b9bd-5338aba5a415",
        "colab": {
          "base_uri": "https://localhost:8080/",
          "height": 92
        }
      },
      "source": [
        "listOfCountries = Y2019_data['Country/Region'].unique().tolist()\n",
        "print(\"\\n Number of countries affected by COVID-19 virus: \", len(listOfCountries))\n",
        "print(listOfCountries)"
      ],
      "execution_count": 9,
      "outputs": [
        {
          "output_type": "stream",
          "text": [
            "\n",
            " Number of countries affected by COVID-19 virus:  212\n",
            "[' Azerbaijan', \"('St. Martin',)\", 'Afghanistan', 'Albania', 'Algeria', 'Andorra', 'Angola', 'Antigua and Barbuda', 'Argentina', 'Armenia', 'Aruba', 'Australia', 'Austria', 'Azerbaijan', 'Bahamas', 'Bahamas, The', 'Bahrain', 'Bangladesh', 'Barbados', 'Belarus', 'Belgium', 'Belize', 'Benin', 'Bhutan', 'Bolivia', 'Bosnia and Herzegovina', 'Brazil', 'Brunei', 'Bulgaria', 'Burkina Faso', 'Burma', 'Cabo Verde', 'Cambodia', 'Cameroon', 'Canada', 'Cape Verde', 'Cayman Islands', 'Central African Republic', 'Chad', 'Channel Islands', 'Chile', 'Colombia', 'Congo (Brazzaville)', 'Congo (Kinshasa)', 'Costa Rica', 'Croatia', 'Cuba', 'Curacao', 'Cyprus', 'Czech Republic', 'Denmark', 'Diamond Princess', 'Djibouti', 'Dominica', 'Dominican Republic', 'East Timor', 'Ecuador', 'Egypt', 'El Salvador', 'Equatorial Guinea', 'Eritrea', 'Estonia', 'Eswatini', 'Ethiopia', 'Faroe Islands', 'Fiji', 'Finland', 'France', 'French Guiana', 'Gabon', 'Gambia', 'Gambia, The', 'Georgia', 'Germany', 'Ghana', 'Gibraltar', 'Greece', 'Greenland', 'Grenada', 'Guadeloupe', 'Guam', 'Guatemala', 'Guernsey', 'Guinea', 'Guinea-Bissau', 'Guyana', 'Haiti', 'Holy See', 'Honduras', 'Hong Kong', 'Hungary', 'Iceland', 'India', 'Indonesia', 'Iran', 'Iraq', 'Ireland', 'Israel', 'Italy', 'Ivory Coast', 'Jamaica', 'Japan', 'Jersey', 'Jordan', 'Kazakhstan', 'Kenya', 'Kosovo', 'Kuwait', 'Kyrgyzstan', 'Laos', 'Latvia', 'Lebanon', 'Liberia', 'Libya', 'Liechtenstein', 'Lithuania', 'Luxembourg', 'MS Zaandam', 'Macau', 'Madagascar', 'Mainland China', 'Malaysia', 'Maldives', 'Mali', 'Malta', 'Martinique', 'Mauritania', 'Mauritius', 'Mayotte', 'Mexico', 'Moldova', 'Monaco', 'Mongolia', 'Montenegro', 'Morocco', 'Mozambique', 'Namibia', 'Nepal', 'Netherlands', 'New Zealand', 'Nicaragua', 'Niger', 'Nigeria', 'North Ireland', 'North Macedonia', 'Norway', 'Oman', 'Others', 'Pakistan', 'Palestine', 'Panama', 'Papua New Guinea', 'Paraguay', 'Peru', 'Philippines', 'Poland', 'Portugal', 'Puerto Rico', 'Qatar', 'Republic of Ireland', 'Republic of the Congo', 'Reunion', 'Romania', 'Russia', 'Rwanda', 'Saint Barthelemy', 'Saint Kitts and Nevis', 'Saint Lucia', 'Saint Vincent and the Grenadines', 'San Marino', 'Saudi Arabia', 'Senegal', 'Serbia', 'Seychelles', 'Singapore', 'Slovakia', 'Slovenia', 'Somalia', 'South Africa', 'South Korea', 'Spain', 'Sri Lanka', 'St. Martin', 'Sudan', 'Suriname', 'Sweden', 'Switzerland', 'Syria', 'Taiwan', 'Tanzania', 'Thailand', 'The Bahamas', 'The Gambia', 'Timor-Leste', 'Togo', 'Trinidad and Tobago', 'Tunisia', 'Turkey', 'UK', 'US', 'Uganda', 'Ukraine', 'United Arab Emirates', 'Uruguay', 'Uzbekistan', 'Vatican City', 'Venezuela', 'Vietnam', 'West Bank and Gaza', 'Zambia', 'Zimbabwe', 'occupied Palestinian territory']\n"
          ],
          "name": "stdout"
        }
      ]
    },
    {
      "cell_type": "code",
      "metadata": {
        "id": "LC3hUxWiTPor",
        "colab_type": "code",
        "outputId": "0f32aaf3-21e9-429a-b596-9aff788be087",
        "colab": {
          "base_uri": "https://localhost:8080/",
          "height": 417
        }
      },
      "source": [
        "Y2019_China = Y2019_data.loc[Y2019_data['Country/Region'] == 'Mainland China']\n",
        "Y2019_data.tail()"
      ],
      "execution_count": 10,
      "outputs": [
        {
          "output_type": "execute_result",
          "data": {
            "text/html": [
              "<div>\n",
              "<style scoped>\n",
              "    .dataframe tbody tr th:only-of-type {\n",
              "        vertical-align: middle;\n",
              "    }\n",
              "\n",
              "    .dataframe tbody tr th {\n",
              "        vertical-align: top;\n",
              "    }\n",
              "\n",
              "    .dataframe thead th {\n",
              "        text-align: right;\n",
              "    }\n",
              "</style>\n",
              "<table border=\"1\" class=\"dataframe\">\n",
              "  <thead>\n",
              "    <tr style=\"text-align: right;\">\n",
              "      <th></th>\n",
              "      <th>ObservationDate</th>\n",
              "      <th>Province/State</th>\n",
              "      <th>Country/Region</th>\n",
              "      <th>Last Update</th>\n",
              "      <th>Confirmed</th>\n",
              "      <th>Deaths</th>\n",
              "      <th>Recovered</th>\n",
              "      <th>Outbreak</th>\n",
              "      <th>Confirmed_transformed</th>\n",
              "      <th>Month</th>\n",
              "      <th>Week</th>\n",
              "      <th>Outbreak_Encode</th>\n",
              "      <th>Country_Encode</th>\n",
              "    </tr>\n",
              "  </thead>\n",
              "  <tbody>\n",
              "    <tr>\n",
              "      <th>5152</th>\n",
              "      <td>03/12/2020</td>\n",
              "      <td>others</td>\n",
              "      <td>occupied Palestinian territory</td>\n",
              "      <td>2020-03-11 20:53:02</td>\n",
              "      <td>0.0</td>\n",
              "      <td>0.0</td>\n",
              "      <td>0.0</td>\n",
              "      <td>COVID-19</td>\n",
              "      <td>0.000625</td>\n",
              "      <td>3</td>\n",
              "      <td>11</td>\n",
              "      <td>0</td>\n",
              "      <td>211</td>\n",
              "    </tr>\n",
              "    <tr>\n",
              "      <th>5631</th>\n",
              "      <td>03/14/2020</td>\n",
              "      <td>others</td>\n",
              "      <td>occupied Palestinian territory</td>\n",
              "      <td>2020-03-11 20:53:02</td>\n",
              "      <td>0.0</td>\n",
              "      <td>0.0</td>\n",
              "      <td>0.0</td>\n",
              "      <td>COVID-19</td>\n",
              "      <td>0.000065</td>\n",
              "      <td>3</td>\n",
              "      <td>11</td>\n",
              "      <td>0</td>\n",
              "      <td>211</td>\n",
              "    </tr>\n",
              "    <tr>\n",
              "      <th>5889</th>\n",
              "      <td>03/15/2020</td>\n",
              "      <td>others</td>\n",
              "      <td>occupied Palestinian territory</td>\n",
              "      <td>2020-03-11 20:53:02</td>\n",
              "      <td>0.0</td>\n",
              "      <td>0.0</td>\n",
              "      <td>0.0</td>\n",
              "      <td>COVID-19</td>\n",
              "      <td>0.021025</td>\n",
              "      <td>3</td>\n",
              "      <td>11</td>\n",
              "      <td>0</td>\n",
              "      <td>211</td>\n",
              "    </tr>\n",
              "    <tr>\n",
              "      <th>6161</th>\n",
              "      <td>03/16/2020</td>\n",
              "      <td>others</td>\n",
              "      <td>occupied Palestinian territory</td>\n",
              "      <td>2020-03-11 20:53:02</td>\n",
              "      <td>0.0</td>\n",
              "      <td>0.0</td>\n",
              "      <td>0.0</td>\n",
              "      <td>COVID-19</td>\n",
              "      <td>0.000085</td>\n",
              "      <td>3</td>\n",
              "      <td>11</td>\n",
              "      <td>0</td>\n",
              "      <td>211</td>\n",
              "    </tr>\n",
              "    <tr>\n",
              "      <th>6437</th>\n",
              "      <td>03/17/2020</td>\n",
              "      <td>others</td>\n",
              "      <td>occupied Palestinian territory</td>\n",
              "      <td>2020-03-11 20:53:02</td>\n",
              "      <td>0.0</td>\n",
              "      <td>0.0</td>\n",
              "      <td>0.0</td>\n",
              "      <td>COVID-19</td>\n",
              "      <td>0.000015</td>\n",
              "      <td>3</td>\n",
              "      <td>11</td>\n",
              "      <td>0</td>\n",
              "      <td>211</td>\n",
              "    </tr>\n",
              "  </tbody>\n",
              "</table>\n",
              "</div>"
            ],
            "text/plain": [
              "     ObservationDate Province/State  ... Outbreak_Encode Country_Encode\n",
              "5152      03/12/2020         others  ...               0            211\n",
              "5631      03/14/2020         others  ...               0            211\n",
              "5889      03/15/2020         others  ...               0            211\n",
              "6161      03/16/2020         others  ...               0            211\n",
              "6437      03/17/2020         others  ...               0            211\n",
              "\n",
              "[5 rows x 13 columns]"
            ]
          },
          "metadata": {
            "tags": []
          },
          "execution_count": 10
        }
      ]
    },
    {
      "cell_type": "markdown",
      "metadata": {
        "id": "wKd_dXPvsbZP",
        "colab_type": "text"
      },
      "source": [
        "Lets start by looking at data by regions: China"
      ]
    },
    {
      "cell_type": "code",
      "metadata": {
        "id": "0TzUB_gnZWl6",
        "colab_type": "code",
        "outputId": "c2dcce9d-6519-42ea-aaf9-aa20a33d2bad",
        "colab": {
          "base_uri": "https://localhost:8080/",
          "height": 330
        }
      },
      "source": [
        "# Y2019_data_new = Y2019_data[Y2019_data['Last Update'] > pd.Timestamp(date(2020,2,15))] //Not needed now\n",
        "Y2019_data_new = Y2019_data\n",
        "Y2019_data_new.head()"
      ],
      "execution_count": 11,
      "outputs": [
        {
          "output_type": "execute_result",
          "data": {
            "text/html": [
              "<div>\n",
              "<style scoped>\n",
              "    .dataframe tbody tr th:only-of-type {\n",
              "        vertical-align: middle;\n",
              "    }\n",
              "\n",
              "    .dataframe tbody tr th {\n",
              "        vertical-align: top;\n",
              "    }\n",
              "\n",
              "    .dataframe thead th {\n",
              "        text-align: right;\n",
              "    }\n",
              "</style>\n",
              "<table border=\"1\" class=\"dataframe\">\n",
              "  <thead>\n",
              "    <tr style=\"text-align: right;\">\n",
              "      <th></th>\n",
              "      <th>ObservationDate</th>\n",
              "      <th>Province/State</th>\n",
              "      <th>Country/Region</th>\n",
              "      <th>Last Update</th>\n",
              "      <th>Confirmed</th>\n",
              "      <th>Deaths</th>\n",
              "      <th>Recovered</th>\n",
              "      <th>Outbreak</th>\n",
              "      <th>Confirmed_transformed</th>\n",
              "      <th>Month</th>\n",
              "      <th>Week</th>\n",
              "      <th>Outbreak_Encode</th>\n",
              "      <th>Country_Encode</th>\n",
              "    </tr>\n",
              "  </thead>\n",
              "  <tbody>\n",
              "    <tr>\n",
              "      <th>2663</th>\n",
              "      <td>02/28/2020</td>\n",
              "      <td>others</td>\n",
              "      <td>Azerbaijan</td>\n",
              "      <td>2020-02-28 15:03:26</td>\n",
              "      <td>1.0</td>\n",
              "      <td>0.0</td>\n",
              "      <td>0.0</td>\n",
              "      <td>COVID-19</td>\n",
              "      <td>0.000200</td>\n",
              "      <td>2</td>\n",
              "      <td>9</td>\n",
              "      <td>0</td>\n",
              "      <td>0</td>\n",
              "    </tr>\n",
              "    <tr>\n",
              "      <th>4674</th>\n",
              "      <td>03/10/2020</td>\n",
              "      <td>others</td>\n",
              "      <td>('St. Martin',)</td>\n",
              "      <td>2020-03-10 05:33:02</td>\n",
              "      <td>2.0</td>\n",
              "      <td>0.0</td>\n",
              "      <td>0.0</td>\n",
              "      <td>COVID-19</td>\n",
              "      <td>0.000220</td>\n",
              "      <td>3</td>\n",
              "      <td>11</td>\n",
              "      <td>0</td>\n",
              "      <td>1</td>\n",
              "    </tr>\n",
              "    <tr>\n",
              "      <th>2258</th>\n",
              "      <td>02/24/2020</td>\n",
              "      <td>others</td>\n",
              "      <td>Afghanistan</td>\n",
              "      <td>2020-02-24 23:33:02</td>\n",
              "      <td>1.0</td>\n",
              "      <td>0.0</td>\n",
              "      <td>0.0</td>\n",
              "      <td>COVID-19</td>\n",
              "      <td>0.000055</td>\n",
              "      <td>2</td>\n",
              "      <td>9</td>\n",
              "      <td>0</td>\n",
              "      <td>2</td>\n",
              "    </tr>\n",
              "    <tr>\n",
              "      <th>2351</th>\n",
              "      <td>02/25/2020</td>\n",
              "      <td>others</td>\n",
              "      <td>Afghanistan</td>\n",
              "      <td>2020-02-24 23:33:02</td>\n",
              "      <td>1.0</td>\n",
              "      <td>0.0</td>\n",
              "      <td>0.0</td>\n",
              "      <td>COVID-19</td>\n",
              "      <td>0.000955</td>\n",
              "      <td>2</td>\n",
              "      <td>9</td>\n",
              "      <td>0</td>\n",
              "      <td>2</td>\n",
              "    </tr>\n",
              "    <tr>\n",
              "      <th>2452</th>\n",
              "      <td>02/26/2020</td>\n",
              "      <td>others</td>\n",
              "      <td>Afghanistan</td>\n",
              "      <td>2020-02-24 23:33:02</td>\n",
              "      <td>1.0</td>\n",
              "      <td>0.0</td>\n",
              "      <td>0.0</td>\n",
              "      <td>COVID-19</td>\n",
              "      <td>0.000030</td>\n",
              "      <td>2</td>\n",
              "      <td>9</td>\n",
              "      <td>0</td>\n",
              "      <td>2</td>\n",
              "    </tr>\n",
              "  </tbody>\n",
              "</table>\n",
              "</div>"
            ],
            "text/plain": [
              "     ObservationDate Province/State  ... Outbreak_Encode Country_Encode\n",
              "2663      02/28/2020         others  ...               0              0\n",
              "4674      03/10/2020         others  ...               0              1\n",
              "2258      02/24/2020         others  ...               0              2\n",
              "2351      02/25/2020         others  ...               0              2\n",
              "2452      02/26/2020         others  ...               0              2\n",
              "\n",
              "[5 rows x 13 columns]"
            ]
          },
          "metadata": {
            "tags": []
          },
          "execution_count": 11
        }
      ]
    },
    {
      "cell_type": "markdown",
      "metadata": {
        "id": "5FjB6NizSgcs",
        "colab_type": "text"
      },
      "source": [
        "Creating a dataframe for Region: Italy"
      ]
    },
    {
      "cell_type": "code",
      "metadata": {
        "id": "EqveGTEKerU3",
        "colab_type": "code",
        "outputId": "adb84edc-3f78-4a12-dcde-49b3bbca9b29",
        "colab": {
          "base_uri": "https://localhost:8080/",
          "height": 330
        }
      },
      "source": [
        "dataFrame = pd.DataFrame(Y2019_data_new)\n",
        "dataFrame = dataFrame.loc[dataFrame['Country/Region'] == 'Italy']\n",
        "dataFrame.tail()"
      ],
      "execution_count": 12,
      "outputs": [
        {
          "output_type": "execute_result",
          "data": {
            "text/html": [
              "<div>\n",
              "<style scoped>\n",
              "    .dataframe tbody tr th:only-of-type {\n",
              "        vertical-align: middle;\n",
              "    }\n",
              "\n",
              "    .dataframe tbody tr th {\n",
              "        vertical-align: top;\n",
              "    }\n",
              "\n",
              "    .dataframe thead th {\n",
              "        text-align: right;\n",
              "    }\n",
              "</style>\n",
              "<table border=\"1\" class=\"dataframe\">\n",
              "  <thead>\n",
              "    <tr style=\"text-align: right;\">\n",
              "      <th></th>\n",
              "      <th>ObservationDate</th>\n",
              "      <th>Province/State</th>\n",
              "      <th>Country/Region</th>\n",
              "      <th>Last Update</th>\n",
              "      <th>Confirmed</th>\n",
              "      <th>Deaths</th>\n",
              "      <th>Recovered</th>\n",
              "      <th>Outbreak</th>\n",
              "      <th>Confirmed_transformed</th>\n",
              "      <th>Month</th>\n",
              "      <th>Week</th>\n",
              "      <th>Outbreak_Encode</th>\n",
              "      <th>Country_Encode</th>\n",
              "    </tr>\n",
              "  </thead>\n",
              "  <tbody>\n",
              "    <tr>\n",
              "      <th>8285</th>\n",
              "      <td>03/24/2020</td>\n",
              "      <td>others</td>\n",
              "      <td>Italy</td>\n",
              "      <td>2020-03-24 23:41:50</td>\n",
              "      <td>69176.0</td>\n",
              "      <td>6820.0</td>\n",
              "      <td>8326.0</td>\n",
              "      <td>COVID-19</td>\n",
              "      <td>0.000010</td>\n",
              "      <td>3</td>\n",
              "      <td>13</td>\n",
              "      <td>0</td>\n",
              "      <td>98</td>\n",
              "    </tr>\n",
              "    <tr>\n",
              "      <th>8586</th>\n",
              "      <td>03/25/2020</td>\n",
              "      <td>others</td>\n",
              "      <td>Italy</td>\n",
              "      <td>2020-03-25 23:37:49</td>\n",
              "      <td>74386.0</td>\n",
              "      <td>7503.0</td>\n",
              "      <td>9362.0</td>\n",
              "      <td>COVID-19</td>\n",
              "      <td>0.000420</td>\n",
              "      <td>3</td>\n",
              "      <td>13</td>\n",
              "      <td>0</td>\n",
              "      <td>98</td>\n",
              "    </tr>\n",
              "    <tr>\n",
              "      <th>8888</th>\n",
              "      <td>03/26/2020</td>\n",
              "      <td>others</td>\n",
              "      <td>Italy</td>\n",
              "      <td>2020-03-26 23:53:24</td>\n",
              "      <td>80589.0</td>\n",
              "      <td>8215.0</td>\n",
              "      <td>10361.0</td>\n",
              "      <td>COVID-19</td>\n",
              "      <td>0.000015</td>\n",
              "      <td>3</td>\n",
              "      <td>13</td>\n",
              "      <td>0</td>\n",
              "      <td>98</td>\n",
              "    </tr>\n",
              "    <tr>\n",
              "      <th>9195</th>\n",
              "      <td>03/27/2020</td>\n",
              "      <td>others</td>\n",
              "      <td>Italy</td>\n",
              "      <td>2020-03-27 23:27:48</td>\n",
              "      <td>86498.0</td>\n",
              "      <td>9134.0</td>\n",
              "      <td>10950.0</td>\n",
              "      <td>COVID-19</td>\n",
              "      <td>0.000010</td>\n",
              "      <td>3</td>\n",
              "      <td>13</td>\n",
              "      <td>0</td>\n",
              "      <td>98</td>\n",
              "    </tr>\n",
              "    <tr>\n",
              "      <th>9502</th>\n",
              "      <td>03/28/2020</td>\n",
              "      <td>others</td>\n",
              "      <td>Italy</td>\n",
              "      <td>2020-03-28 23:11:06</td>\n",
              "      <td>92472.0</td>\n",
              "      <td>10023.0</td>\n",
              "      <td>12384.0</td>\n",
              "      <td>COVID-19</td>\n",
              "      <td>0.000075</td>\n",
              "      <td>3</td>\n",
              "      <td>13</td>\n",
              "      <td>0</td>\n",
              "      <td>98</td>\n",
              "    </tr>\n",
              "  </tbody>\n",
              "</table>\n",
              "</div>"
            ],
            "text/plain": [
              "     ObservationDate Province/State  ... Outbreak_Encode Country_Encode\n",
              "8285      03/24/2020         others  ...               0             98\n",
              "8586      03/25/2020         others  ...               0             98\n",
              "8888      03/26/2020         others  ...               0             98\n",
              "9195      03/27/2020         others  ...               0             98\n",
              "9502      03/28/2020         others  ...               0             98\n",
              "\n",
              "[5 rows x 13 columns]"
            ]
          },
          "metadata": {
            "tags": []
          },
          "execution_count": 12
        }
      ]
    },
    {
      "cell_type": "code",
      "metadata": {
        "id": "d38RL-VhfIBs",
        "colab_type": "code",
        "colab": {}
      },
      "source": [
        "newConfirmed = [0]\n",
        "newDeaths = [0]\n",
        "newRecovered = [0]\n",
        "for data in range(1, (dataFrame.Confirmed).size): \n",
        "    newConfirmed.append(dataFrame.Confirmed.tolist()[data]-dataFrame.Confirmed.tolist()[data-1])\n",
        "    newDeaths.append(dataFrame.Deaths.tolist()[data]-dataFrame.Deaths.tolist()[data-1])\n",
        "    newRecovered.append(dataFrame.Recovered.tolist()[data]-dataFrame.Recovered.tolist()[data-1])\n"
      ],
      "execution_count": 0,
      "outputs": []
    },
    {
      "cell_type": "markdown",
      "metadata": {
        "id": "BLoAZXUXgcRO",
        "colab_type": "text"
      },
      "source": [
        "Using TensorFlow Backend for prediction of deaths and number of confirmed cases"
      ]
    },
    {
      "cell_type": "code",
      "metadata": {
        "id": "dAbrmQ8WglKl",
        "colab_type": "code",
        "colab": {}
      },
      "source": [
        "from numpy import array\n",
        "from tensorflow.python.keras.models import Sequential\n",
        "from tensorflow.python.keras.layers import LSTM, Dropout, Dense\n",
        "from tensorflow.keras.backend import clear_session"
      ],
      "execution_count": 0,
      "outputs": []
    },
    {
      "cell_type": "code",
      "metadata": {
        "id": "5MxsByDrg6jv",
        "colab_type": "code",
        "colab": {}
      },
      "source": [
        "def format_sequence(sequence, n_steps):\n",
        "    X, Y = list(), list()\n",
        "    for data in range(len(sequence)):\n",
        "      end_datax = data + n_steps #End of this pattern\n",
        "      if end_datax > len(sequence) - 1:\n",
        "        break  # break if we went beyond the sequence\n",
        "      seqX, seqY = sequence[data: end_datax], sequence[end_datax]\n",
        "      X.append(seqX)\n",
        "      Y.append(seqY)\n",
        "    return array(X), array(Y)    "
      ],
      "execution_count": 0,
      "outputs": []
    },
    {
      "cell_type": "code",
      "metadata": {
        "id": "CLE9t4FMipeb",
        "colab_type": "code",
        "colab": {}
      },
      "source": [
        "unformattedSequence = np.array(newConfirmed)\n",
        "nSteps = 5\n",
        "X, Y = format_sequence(unformattedSequence, nSteps)\n",
        "\n",
        "\n",
        "nFeatures = 1\n",
        "X = X.reshape((X.shape[0], X.shape[1], nFeatures))"
      ],
      "execution_count": 0,
      "outputs": []
    },
    {
      "cell_type": "markdown",
      "metadata": {
        "id": "IJXsKHuSlrlf",
        "colab_type": "text"
      },
      "source": [
        "Define model and adding neural network layers"
      ]
    },
    {
      "cell_type": "markdown",
      "metadata": {
        "id": "uM7AzrPcYsey",
        "colab_type": "text"
      },
      "source": [
        "Trying LSTM with **linear** activation function"
      ]
    },
    {
      "cell_type": "code",
      "metadata": {
        "id": "EU2hgbtZY4pL",
        "colab_type": "code",
        "colab": {
          "base_uri": "https://localhost:8080/",
          "height": 435
        },
        "outputId": "42b03666-ce83-4962-fcb5-b66d4c8e56ab"
      },
      "source": [
        "LSTMModel = Sequential()\n",
        "LSTMModel.add(LSTM(50, activation='linear', return_sequences=True, input_shape = (nSteps, nFeatures)))\n",
        "LSTMModel.add(Dropout(0.1))\n",
        "LSTMModel.add(LSTM(50, activation='linear', return_sequences=True))\n",
        "LSTMModel.add(Dropout(0.1))\n",
        "LSTMModel.add(LSTM(50, activation='linear'))\n",
        "LSTMModel.add(Dense(1))\n",
        "\n",
        "#Added two LSTM layers\n",
        "\n",
        "start = time.time()\n",
        "LSTMModel.compile(optimizer='adam', loss='mse')\n",
        "print('Compilation time :', time.time() - start)\n",
        "print('\\n')\n",
        "LSTMModel.summary()"
      ],
      "execution_count": 17,
      "outputs": [
        {
          "output_type": "stream",
          "text": [
            "Compilation time : 0.010835886001586914\n",
            "\n",
            "\n",
            "Model: \"sequential\"\n",
            "_________________________________________________________________\n",
            "Layer (type)                 Output Shape              Param #   \n",
            "=================================================================\n",
            "lstm (LSTM)                  (None, 5, 50)             10400     \n",
            "_________________________________________________________________\n",
            "dropout (Dropout)            (None, 5, 50)             0         \n",
            "_________________________________________________________________\n",
            "lstm_1 (LSTM)                (None, 5, 50)             20200     \n",
            "_________________________________________________________________\n",
            "dropout_1 (Dropout)          (None, 5, 50)             0         \n",
            "_________________________________________________________________\n",
            "lstm_2 (LSTM)                (None, 50)                20200     \n",
            "_________________________________________________________________\n",
            "dense (Dense)                (None, 1)                 51        \n",
            "=================================================================\n",
            "Total params: 50,851\n",
            "Trainable params: 50,851\n",
            "Non-trainable params: 0\n",
            "_________________________________________________________________\n"
          ],
          "name": "stdout"
        }
      ]
    },
    {
      "cell_type": "code",
      "metadata": {
        "id": "xSZS5WwxZY1j",
        "colab_type": "code",
        "colab": {
          "base_uri": "https://localhost:8080/",
          "height": 53
        },
        "outputId": "eea7e90c-03f0-4513-9c1a-9bbfa8ed3e03"
      },
      "source": [
        "LSTMModel.fit(X,Y, epochs=300, verbose= 0)\n",
        "xInput = np.array(newConfirmed)[-nSteps:]\n",
        "xInput = xInput.reshape((1, nSteps, nFeatures))\n",
        "yHat =LSTMModel.predict(xInput, verbose=0)\n",
        "\n",
        "forecastedCases = int(round(yHat[0][0]))\n",
        "print('Case forecast for today: {}'.format(forecastedCases))\n",
        "\n",
        "predictionAccuracy = 100*(1-np.abs(forecastedCases - newConfirmed[-1])/newConfirmed[-1])\n",
        "print('Prediction accuracy: {:.2f} %'.format(predictionAccuracy))"
      ],
      "execution_count": 18,
      "outputs": [
        {
          "output_type": "stream",
          "text": [
            "Case forecast for today: 7239\n",
            "Prediction accuracy: 78.82 %\n"
          ],
          "name": "stdout"
        }
      ]
    },
    {
      "cell_type": "code",
      "metadata": {
        "id": "wORKEMHybM7e",
        "colab_type": "code",
        "colab": {
          "base_uri": "https://localhost:8080/",
          "height": 35
        },
        "outputId": "8e186db5-d281-4b5c-86c1-ef7dd6948307"
      },
      "source": [
        "xinput2 = np.array(newConfirmed)[(-nSteps+1):]\n",
        "xinput2 = np.concatenate((xinput2, yHat), axis=None)\n",
        "xinput2 = xinput2.reshape((1, nSteps, nFeatures))\n",
        "yhat2 = LSTMModel.predict(xinput2, verbose=0)\n",
        "print('Number of cases for tomorrow {:.0f}'.format(int(yhat2[0][0])))"
      ],
      "execution_count": 20,
      "outputs": [
        {
          "output_type": "stream",
          "text": [
            "Number of cases for tomorrow 6435\n"
          ],
          "name": "stdout"
        }
      ]
    },
    {
      "cell_type": "markdown",
      "metadata": {
        "id": "Ng_PqSYeaCGF",
        "colab_type": "text"
      },
      "source": [
        "Trying LSTM with Relu activation function"
      ]
    },
    {
      "cell_type": "code",
      "metadata": {
        "id": "VHNoH7pFlqlk",
        "colab_type": "code",
        "outputId": "e5efbfb6-a2a9-4345-ad07-793c0293c421",
        "colab": {
          "base_uri": "https://localhost:8080/",
          "height": 435
        }
      },
      "source": [
        "clear_session()\n",
        "\n",
        "LSTMModel_Relu = Sequential()\n",
        "LSTMModel_Relu.add(LSTM(50, activation='relu', return_sequences=True, input_shape = (nSteps, nFeatures)))\n",
        "LSTMModel_Relu.add(Dropout(0.1))\n",
        "LSTMModel_Relu.add(LSTM(50, activation='relu', return_sequences=True))\n",
        "LSTMModel_Relu.add(Dropout(0.1))\n",
        "LSTMModel_Relu.add(LSTM(50, activation='relu'))\n",
        "LSTMModel_Relu.add(Dense(1))\n",
        "\n",
        "#Added two LSTM layers\n",
        "\n",
        "start = time.time()\n",
        "LSTMModel_Relu.compile(optimizer='adam', loss='mse')\n",
        "print('Compilation time :', time.time() - start)\n",
        "print('\\n')\n",
        "LSTMModel_Relu.summary()"
      ],
      "execution_count": 21,
      "outputs": [
        {
          "output_type": "stream",
          "text": [
            "Compilation time : 0.005916118621826172\n",
            "\n",
            "\n",
            "Model: \"sequential\"\n",
            "_________________________________________________________________\n",
            "Layer (type)                 Output Shape              Param #   \n",
            "=================================================================\n",
            "lstm (LSTM)                  (None, 5, 50)             10400     \n",
            "_________________________________________________________________\n",
            "dropout (Dropout)            (None, 5, 50)             0         \n",
            "_________________________________________________________________\n",
            "lstm_1 (LSTM)                (None, 5, 50)             20200     \n",
            "_________________________________________________________________\n",
            "dropout_1 (Dropout)          (None, 5, 50)             0         \n",
            "_________________________________________________________________\n",
            "lstm_2 (LSTM)                (None, 50)                20200     \n",
            "_________________________________________________________________\n",
            "dense (Dense)                (None, 1)                 51        \n",
            "=================================================================\n",
            "Total params: 50,851\n",
            "Trainable params: 50,851\n",
            "Non-trainable params: 0\n",
            "_________________________________________________________________\n"
          ],
          "name": "stdout"
        }
      ]
    },
    {
      "cell_type": "code",
      "metadata": {
        "id": "Yj4hslb0oWRY",
        "colab_type": "code",
        "outputId": "d1885f33-724f-45a1-821f-82b6c9477e56",
        "colab": {
          "base_uri": "https://localhost:8080/",
          "height": 53
        }
      },
      "source": [
        "LSTMModel_Relu.fit(X,Y, epochs=300, verbose= 0)\n",
        "xInput_Relu = np.array(newConfirmed)[-nSteps:]\n",
        "xInput_Relu = xInput_Relu.reshape((1, nSteps, nFeatures))\n",
        "yHat_Relu =LSTMModel_Relu.predict(xInput_Relu, verbose=0)\n",
        "\n",
        "forecastedCases_Relu = int(round(yHat_Relu[0][0]))\n",
        "print('Case forecast for today: {}'.format(forecastedCases_Relu))\n",
        "\n",
        "predictionAccuracy_relu = 100*(1-np.abs(forecastedCases_Relu - newConfirmed[-1])/newConfirmed[-1])\n",
        "print('Prediction accuracy: {:.2f} %'.format(predictionAccuracy_relu))"
      ],
      "execution_count": 22,
      "outputs": [
        {
          "output_type": "stream",
          "text": [
            "Case forecast for today: 6586\n",
            "Prediction accuracy: 89.76 %\n"
          ],
          "name": "stdout"
        }
      ]
    },
    {
      "cell_type": "markdown",
      "metadata": {
        "id": "-W7lanWrp-v_",
        "colab_type": "text"
      },
      "source": [
        "Tomorrow forecast"
      ]
    },
    {
      "cell_type": "code",
      "metadata": {
        "id": "MFZ54w0gqBh5",
        "colab_type": "code",
        "outputId": "fba820d5-5c6b-4c24-a2b8-a9b4f5729bbc",
        "colab": {
          "base_uri": "https://localhost:8080/",
          "height": 35
        }
      },
      "source": [
        "xinput2_relu = np.array(newConfirmed)[(-nSteps+1):]\n",
        "xinput2_relu = np.concatenate((xinput2_relu, yHat), axis=None)\n",
        "xinput2_relu = xinput2_relu.reshape((1, nSteps, nFeatures))\n",
        "yhat2_relu = LSTMModel_Relu.predict(xinput2_relu, verbose=0)\n",
        "print('Number of cases for tomorrow {:.0f}'.format(int(yhat2_relu[0][0])))"
      ],
      "execution_count": 23,
      "outputs": [
        {
          "output_type": "stream",
          "text": [
            "Number of cases for tomorrow 6648\n"
          ],
          "name": "stdout"
        }
      ]
    },
    {
      "cell_type": "markdown",
      "metadata": {
        "id": "6tLDjpayij1B",
        "colab_type": "text"
      },
      "source": [
        "Prediction for number of deaths"
      ]
    },
    {
      "cell_type": "code",
      "metadata": {
        "id": "173WtY9jihf1",
        "colab_type": "code",
        "colab": {}
      },
      "source": [
        "rawSequence = np.array(newDeaths)\n",
        "nSteps = 4\n",
        "X, Y = format_sequence(rawSequence, nSteps)\n",
        "\n",
        "nFeatures = 1\n",
        "X = X.reshape((X.shape[0], X.shape[1], nFeatures))"
      ],
      "execution_count": 0,
      "outputs": []
    },
    {
      "cell_type": "markdown",
      "metadata": {
        "id": "IeU0u5eCdDR-",
        "colab_type": "text"
      },
      "source": [
        "Deaths Prediction"
      ]
    },
    {
      "cell_type": "markdown",
      "metadata": {
        "id": "KpR-uJkSdD40",
        "colab_type": "text"
      },
      "source": [
        "Using LSTM Linear activation function"
      ]
    },
    {
      "cell_type": "code",
      "metadata": {
        "id": "6C8cuy09jMkN",
        "colab_type": "code",
        "outputId": "cae84145-aabc-498a-b180-7cedc2aaccda",
        "colab": {
          "base_uri": "https://localhost:8080/",
          "height": 308
        }
      },
      "source": [
        "#Model\n",
        "LSTMModel2 = Sequential()\n",
        "LSTMModel2.add(LSTM(50, activation = 'linear', return_sequences=True, input_shape= (nSteps, nFeatures)))\n",
        "LSTMModel2.add(LSTM(50, activation='linear', return_sequences=True))\n",
        "LSTMModel2.add(LSTM(50, activation= 'linear'))\n",
        "LSTMModel2.add(Dense(1))\n",
        "\n",
        "currentTime = time.time()\n",
        "LSTMModel2.compile(optimizer = 'adam', loss='mse')\n",
        "LSTMModel2.summary()"
      ],
      "execution_count": 25,
      "outputs": [
        {
          "output_type": "stream",
          "text": [
            "Model: \"sequential_1\"\n",
            "_________________________________________________________________\n",
            "Layer (type)                 Output Shape              Param #   \n",
            "=================================================================\n",
            "lstm_3 (LSTM)                (None, 4, 50)             10400     \n",
            "_________________________________________________________________\n",
            "lstm_4 (LSTM)                (None, 4, 50)             20200     \n",
            "_________________________________________________________________\n",
            "lstm_5 (LSTM)                (None, 50)                20200     \n",
            "_________________________________________________________________\n",
            "dense_1 (Dense)              (None, 1)                 51        \n",
            "=================================================================\n",
            "Total params: 50,851\n",
            "Trainable params: 50,851\n",
            "Non-trainable params: 0\n",
            "_________________________________________________________________\n"
          ],
          "name": "stdout"
        }
      ]
    },
    {
      "cell_type": "code",
      "metadata": {
        "id": "GaeOn4Zwc8hv",
        "colab_type": "code",
        "colab": {
          "base_uri": "https://localhost:8080/",
          "height": 53
        },
        "outputId": "28a7eb59-dc72-4e58-b5d4-26fe5dda8b63"
      },
      "source": [
        "LSTMModel2.fit(X, Y, epochs=300, verbose=0)\n",
        "\n",
        "xInput = np.array(newDeaths)[-nSteps:]\n",
        "xInput = xInput.reshape((1, nSteps, nFeatures))\n",
        "yHat2 = LSTMModel2.predict(xInput, verbose=0)\n",
        "\n",
        "deathPrediction = int(round(yHat2[0][0]))\n",
        "print('Deaths prediction for today: {}'.format(deathPrediction))\n",
        "\n",
        "predictionAccuracy = 100*(1-np.abs(deathPrediction - newDeaths[-1])/newDeaths[-1])\n",
        "print('Prediction accuracy: {:.2f} %'.format(predictionAccuracy))"
      ],
      "execution_count": 26,
      "outputs": [
        {
          "output_type": "stream",
          "text": [
            "Deaths prediction for today: 932\n",
            "Prediction accuracy: 95.16 %\n"
          ],
          "name": "stdout"
        }
      ]
    },
    {
      "cell_type": "code",
      "metadata": {
        "id": "uy1zGgoLc9-Y",
        "colab_type": "code",
        "colab": {
          "base_uri": "https://localhost:8080/",
          "height": 35
        },
        "outputId": "da590dd4-fccb-4d2e-b892-a50b7dc1b126"
      },
      "source": [
        "xInput2 = np.array(newDeaths)[(-nSteps+1):]\n",
        "xInput2 = np.concatenate((xInput2, yHat2), axis=None)\n",
        "xInput2 = xInput2.reshape((1, nSteps, nFeatures))\n",
        "yHat3 = LSTMModel2.predict(xInput2, verbose=0)\n",
        "print('There might be {:.0f} deaths tomorrow'.format(int(yHat3[0][0])))"
      ],
      "execution_count": 27,
      "outputs": [
        {
          "output_type": "stream",
          "text": [
            "There might be 789 deaths tomorrow\n"
          ],
          "name": "stdout"
        }
      ]
    },
    {
      "cell_type": "markdown",
      "metadata": {
        "id": "OOJJKSFRiFs1",
        "colab_type": "text"
      },
      "source": [
        "Using LSTM Relu activation function"
      ]
    },
    {
      "cell_type": "code",
      "metadata": {
        "id": "dnt1-4sniBT7",
        "colab_type": "code",
        "outputId": "e0caf869-d982-435f-acae-6c1577e4ae5c",
        "colab": {
          "base_uri": "https://localhost:8080/",
          "height": 308
        }
      },
      "source": [
        "#Model\n",
        "LSTMModel2_relu = Sequential()\n",
        "LSTMModel2_relu.add(LSTM(50, activation = 'relu', return_sequences=True, input_shape= (nSteps, nFeatures)))\n",
        "LSTMModel2_relu.add(LSTM(50, activation='relu', return_sequences=True))\n",
        "LSTMModel2_relu.add(LSTM(50, activation= 'relu'))\n",
        "LSTMModel2_relu.add(Dense(1))\n",
        "\n",
        "currentTime = time.time()\n",
        "LSTMModel2_relu.compile(optimizer = 'adam', loss='mse')\n",
        "LSTMModel2_relu.summary()"
      ],
      "execution_count": 28,
      "outputs": [
        {
          "output_type": "stream",
          "text": [
            "Model: \"sequential_2\"\n",
            "_________________________________________________________________\n",
            "Layer (type)                 Output Shape              Param #   \n",
            "=================================================================\n",
            "lstm_6 (LSTM)                (None, 4, 50)             10400     \n",
            "_________________________________________________________________\n",
            "lstm_7 (LSTM)                (None, 4, 50)             20200     \n",
            "_________________________________________________________________\n",
            "lstm_8 (LSTM)                (None, 50)                20200     \n",
            "_________________________________________________________________\n",
            "dense_2 (Dense)              (None, 1)                 51        \n",
            "=================================================================\n",
            "Total params: 50,851\n",
            "Trainable params: 50,851\n",
            "Non-trainable params: 0\n",
            "_________________________________________________________________\n"
          ],
          "name": "stdout"
        }
      ]
    },
    {
      "cell_type": "code",
      "metadata": {
        "id": "EAQvW3S5dSVa",
        "colab_type": "code",
        "colab": {
          "base_uri": "https://localhost:8080/",
          "height": 53
        },
        "outputId": "fb650688-5072-4607-8d90-577c7794f362"
      },
      "source": [
        "LSTMModel2_relu.fit(X, Y, epochs=300, verbose=0)\n",
        "\n",
        "xInput_relu = np.array(newDeaths)[-nSteps:]\n",
        "xInput_relu = xInput_relu.reshape((1, nSteps, nFeatures))\n",
        "yHat2_relu = LSTMModel2_relu.predict(xInput_relu, verbose=0)\n",
        "\n",
        "deathPrediction_relu = int(round(yHat2_relu[0][0]))\n",
        "print('Deaths prediction for today: {}'.format(deathPrediction_relu))\n",
        "\n",
        "death_predictionAccuracy_relu = 100*(1-np.abs(deathPrediction_relu - newDeaths[-1])/newDeaths[-1])\n",
        "print('Prediction accuracy: {:.2f} %'.format(death_predictionAccuracy_relu))"
      ],
      "execution_count": 29,
      "outputs": [
        {
          "output_type": "stream",
          "text": [
            "Deaths prediction for today: 881\n",
            "Prediction accuracy: 99.10 %\n"
          ],
          "name": "stdout"
        }
      ]
    },
    {
      "cell_type": "code",
      "metadata": {
        "id": "MF_cQC-Dp3Pg",
        "colab_type": "code",
        "outputId": "a1ce997a-5b7b-49f9-df62-28a08569f05d",
        "colab": {
          "base_uri": "https://localhost:8080/",
          "height": 35
        }
      },
      "source": [
        "xInput2_relu = np.array(newDeaths)[(-nSteps+1):]\n",
        "xInput2_relu = np.concatenate((xInput2_relu, yHat2), axis=None)\n",
        "xInput2_relu = xInput2_relu.reshape((1, nSteps, nFeatures))\n",
        "yHat3_relu = LSTMModel2_relu.predict(xInput2_relu, verbose=0)\n",
        "print('There might be {:.0f} deaths tomorrow'.format(int(yHat3_relu[0][0])))"
      ],
      "execution_count": 30,
      "outputs": [
        {
          "output_type": "stream",
          "text": [
            "There might be 832 deaths tomorrow\n"
          ],
          "name": "stdout"
        }
      ]
    }
  ]
}