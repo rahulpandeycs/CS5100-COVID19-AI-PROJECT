{
 "cells": [
  {
   "cell_type": "markdown",
   "metadata": {
    "colab_type": "text",
    "id": "view-in-github"
   },
   "source": [
    "<a href=\"https://colab.research.google.com/github/rahulpandeycs/CS5100-COVID19-AI-PROJECT/blob/master/CS5100_COVID19_AI_Project.ipynb\" target=\"_parent\"><img src=\"https://colab.research.google.com/assets/colab-badge.svg\" alt=\"Open In Colab\"/></a>"
   ]
  },
  {
   "cell_type": "code",
   "execution_count": 1,
   "metadata": {
    "colab": {},
    "colab_type": "code",
    "id": "Q57l8sEbE3tU"
   },
   "outputs": [],
   "source": [
    "import numpy as np # linear algebra\n",
    "import pandas as pd # data processing, I/O for CSV files\n",
    "import os\n",
    "import matplotlib.pyplot as plt\n",
    "import matplotlib.ticker as ticker\n",
    "import time\n",
    "import datetime as dt\n",
    "from datetime import date\n",
    "import warnings"
   ]
  },
  {
   "cell_type": "markdown",
   "metadata": {
    "colab_type": "text",
    "id": "nFCgG2GyKSmh"
   },
   "source": [
    "View the list of input data"
   ]
  },
  {
   "cell_type": "code",
   "execution_count": 2,
   "metadata": {
    "colab": {},
    "colab_type": "code",
    "id": "WtKoTJJ7JvSc"
   },
   "outputs": [
    {
     "name": "stdout",
     "output_type": "stream",
     "text": [
      "data/COVID19_line_list_data.csv\n",
      "data/COVID19_open_line_list.csv\n",
      "data/covid_19_data.csv\n",
      "data/time_series_covid_19_confirmed.csv\n",
      "data/time_series_covid_19_deaths.csv\n",
      "data/time_series_covid_19_recovered.csv\n"
     ]
    }
   ],
   "source": [
    "for dirname, _, filenames in os.walk('data/'):\n",
    "    for filename in filenames:\n",
    "        print(os.path.join(dirname, filename))\n",
    "warnings.filterwarnings('ignore')"
   ]
  },
  {
   "cell_type": "code",
   "execution_count": 3,
   "metadata": {
    "colab": {
     "base_uri": "https://localhost:8080/",
     "height": 206
    },
    "colab_type": "code",
    "id": "UNxWdAJHKb83",
    "outputId": "00860729-2bfe-4f2a-a388-9f56ed2624d9"
   },
   "outputs": [
    {
     "data": {
      "text/html": [
       "<div>\n",
       "<style scoped>\n",
       "    .dataframe tbody tr th:only-of-type {\n",
       "        vertical-align: middle;\n",
       "    }\n",
       "\n",
       "    .dataframe tbody tr th {\n",
       "        vertical-align: top;\n",
       "    }\n",
       "\n",
       "    .dataframe thead th {\n",
       "        text-align: right;\n",
       "    }\n",
       "</style>\n",
       "<table border=\"1\" class=\"dataframe\">\n",
       "  <thead>\n",
       "    <tr style=\"text-align: right;\">\n",
       "      <th></th>\n",
       "      <th>ObservationDate</th>\n",
       "      <th>Province/State</th>\n",
       "      <th>Country/Region</th>\n",
       "      <th>Last Update</th>\n",
       "      <th>Confirmed</th>\n",
       "      <th>Deaths</th>\n",
       "      <th>Recovered</th>\n",
       "    </tr>\n",
       "  </thead>\n",
       "  <tbody>\n",
       "    <tr>\n",
       "      <th>9730</th>\n",
       "      <td>03/28/2020</td>\n",
       "      <td>Wyoming</td>\n",
       "      <td>US</td>\n",
       "      <td>2020-03-28 23:11:06</td>\n",
       "      <td>82.0</td>\n",
       "      <td>0.0</td>\n",
       "      <td>0.0</td>\n",
       "    </tr>\n",
       "    <tr>\n",
       "      <th>9731</th>\n",
       "      <td>03/28/2020</td>\n",
       "      <td>Xinjiang</td>\n",
       "      <td>Mainland China</td>\n",
       "      <td>2020-03-28 23:11:06</td>\n",
       "      <td>76.0</td>\n",
       "      <td>3.0</td>\n",
       "      <td>73.0</td>\n",
       "    </tr>\n",
       "    <tr>\n",
       "      <th>9732</th>\n",
       "      <td>03/28/2020</td>\n",
       "      <td>Yukon</td>\n",
       "      <td>Canada</td>\n",
       "      <td>2020-03-28 23:11:06</td>\n",
       "      <td>4.0</td>\n",
       "      <td>0.0</td>\n",
       "      <td>0.0</td>\n",
       "    </tr>\n",
       "    <tr>\n",
       "      <th>9733</th>\n",
       "      <td>03/28/2020</td>\n",
       "      <td>Yunnan</td>\n",
       "      <td>Mainland China</td>\n",
       "      <td>2020-03-28 23:11:06</td>\n",
       "      <td>180.0</td>\n",
       "      <td>2.0</td>\n",
       "      <td>172.0</td>\n",
       "    </tr>\n",
       "    <tr>\n",
       "      <th>9734</th>\n",
       "      <td>03/28/2020</td>\n",
       "      <td>Zhejiang</td>\n",
       "      <td>Mainland China</td>\n",
       "      <td>2020-03-28 23:11:06</td>\n",
       "      <td>1251.0</td>\n",
       "      <td>1.0</td>\n",
       "      <td>1225.0</td>\n",
       "    </tr>\n",
       "  </tbody>\n",
       "</table>\n",
       "</div>"
      ],
      "text/plain": [
       "     ObservationDate Province/State  Country/Region          Last Update  \\\n",
       "9730      03/28/2020        Wyoming              US  2020-03-28 23:11:06   \n",
       "9731      03/28/2020       Xinjiang  Mainland China  2020-03-28 23:11:06   \n",
       "9732      03/28/2020          Yukon          Canada  2020-03-28 23:11:06   \n",
       "9733      03/28/2020         Yunnan  Mainland China  2020-03-28 23:11:06   \n",
       "9734      03/28/2020       Zhejiang  Mainland China  2020-03-28 23:11:06   \n",
       "\n",
       "      Confirmed  Deaths  Recovered  \n",
       "9730       82.0     0.0        0.0  \n",
       "9731       76.0     3.0       73.0  \n",
       "9732        4.0     0.0        0.0  \n",
       "9733      180.0     2.0      172.0  \n",
       "9734     1251.0     1.0     1225.0  "
      ]
     },
     "execution_count": 3,
     "metadata": {},
     "output_type": "execute_result"
    }
   ],
   "source": [
    "Y2019_dataset_path = 'data/covid_19_data.csv'\n",
    "Y2019_data = pd.read_csv(Y2019_dataset_path)\n",
    "# Y2019_data['Last Update'] = Y2019_data['Last Update'].apply(pd.datetime)\n",
    "# Y2019_data['Last Update'] = pd.to_datetime(Y2019_data['Last Update'], format='%m/%d/%Y %H:%M')\n",
    "Y2019_data.drop(['SNo'], axis = 1, inplace = True)\n",
    "Y2019_data.tail()"
   ]
  },
  {
   "cell_type": "code",
   "execution_count": 4,
   "metadata": {
    "colab": {
     "base_uri": "https://localhost:8080/",
     "height": 92
    },
    "colab_type": "code",
    "id": "PtruEVLAR2dn",
    "outputId": "6d73f86a-d0b1-4ad4-aa8d-72c11de14f82"
   },
   "outputs": [
    {
     "name": "stdout",
     "output_type": "stream",
     "text": [
      "\n",
      " Number of countries affected by COVID-19 virus:  212\n",
      "['Mainland China', 'Hong Kong', 'Macau', 'Taiwan', 'US', 'Japan', 'Thailand', 'South Korea', 'Singapore', 'Philippines', 'Malaysia', 'Vietnam', 'Australia', 'Mexico', 'Brazil', 'Colombia', 'France', 'Nepal', 'Canada', 'Cambodia', 'Sri Lanka', 'Ivory Coast', 'Germany', 'Finland', 'United Arab Emirates', 'India', 'Italy', 'UK', 'Russia', 'Sweden', 'Spain', 'Belgium', 'Others', 'Egypt', 'Iran', 'Israel', 'Lebanon', 'Iraq', 'Oman', 'Afghanistan', 'Bahrain', 'Kuwait', 'Austria', 'Algeria', 'Croatia', 'Switzerland', 'Pakistan', 'Georgia', 'Greece', 'North Macedonia', 'Norway', 'Romania', 'Denmark', 'Estonia', 'Netherlands', 'San Marino', ' Azerbaijan', 'Belarus', 'Iceland', 'Lithuania', 'New Zealand', 'Nigeria', 'North Ireland', 'Ireland', 'Luxembourg', 'Monaco', 'Qatar', 'Ecuador', 'Azerbaijan', 'Czech Republic', 'Armenia', 'Dominican Republic', 'Indonesia', 'Portugal', 'Andorra', 'Latvia', 'Morocco', 'Saudi Arabia', 'Senegal', 'Argentina', 'Chile', 'Jordan', 'Ukraine', 'Saint Barthelemy', 'Hungary', 'Faroe Islands', 'Gibraltar', 'Liechtenstein', 'Poland', 'Tunisia', 'Palestine', 'Bosnia and Herzegovina', 'Slovenia', 'South Africa', 'Bhutan', 'Cameroon', 'Costa Rica', 'Peru', 'Serbia', 'Slovakia', 'Togo', 'Vatican City', 'French Guiana', 'Malta', 'Martinique', 'Republic of Ireland', 'Bulgaria', 'Maldives', 'Bangladesh', 'Moldova', 'Paraguay', 'Albania', 'Cyprus', 'St. Martin', 'Brunei', 'occupied Palestinian territory', \"('St. Martin',)\", 'Burkina Faso', 'Channel Islands', 'Holy See', 'Mongolia', 'Panama', 'Bolivia', 'Honduras', 'Congo (Kinshasa)', 'Jamaica', 'Reunion', 'Turkey', 'Cuba', 'Guyana', 'Kazakhstan', 'Cayman Islands', 'Guadeloupe', 'Ethiopia', 'Sudan', 'Guinea', 'Antigua and Barbuda', 'Aruba', 'Kenya', 'Uruguay', 'Ghana', 'Jersey', 'Namibia', 'Seychelles', 'Trinidad and Tobago', 'Venezuela', 'Curacao', 'Eswatini', 'Gabon', 'Guatemala', 'Guernsey', 'Mauritania', 'Rwanda', 'Saint Lucia', 'Saint Vincent and the Grenadines', 'Suriname', 'Kosovo', 'Central African Republic', 'Congo (Brazzaville)', 'Equatorial Guinea', 'Uzbekistan', 'Guam', 'Puerto Rico', 'Benin', 'Greenland', 'Liberia', 'Mayotte', 'Republic of the Congo', 'Somalia', 'Tanzania', 'The Bahamas', 'Barbados', 'Montenegro', 'The Gambia', 'Kyrgyzstan', 'Mauritius', 'Zambia', 'Djibouti', 'Gambia, The', 'Bahamas, The', 'Chad', 'El Salvador', 'Fiji', 'Nicaragua', 'Madagascar', 'Haiti', 'Angola', 'Cabo Verde', 'Niger', 'Papua New Guinea', 'Zimbabwe', 'Cape Verde', 'East Timor', 'Eritrea', 'Uganda', 'Bahamas', 'Dominica', 'Gambia', 'Grenada', 'Mozambique', 'Syria', 'Timor-Leste', 'Belize', 'Laos', 'Libya', 'Diamond Princess', 'Guinea-Bissau', 'Mali', 'Saint Kitts and Nevis', 'West Bank and Gaza', 'Burma', 'MS Zaandam']\n"
     ]
    }
   ],
   "source": [
    "listOfCountries = Y2019_data['Country/Region'].unique().tolist()\n",
    "print(\"\\n Number of countries affected by COVID-19 virus: \", len(listOfCountries))\n",
    "print(listOfCountries)"
   ]
  },
  {
   "cell_type": "code",
   "execution_count": 5,
   "metadata": {
    "colab": {
     "base_uri": "https://localhost:8080/",
     "height": 206
    },
    "colab_type": "code",
    "id": "LC3hUxWiTPor",
    "outputId": "d7f795a6-463f-431e-8947-0ad3faa10421"
   },
   "outputs": [
    {
     "data": {
      "text/html": [
       "<div>\n",
       "<style scoped>\n",
       "    .dataframe tbody tr th:only-of-type {\n",
       "        vertical-align: middle;\n",
       "    }\n",
       "\n",
       "    .dataframe tbody tr th {\n",
       "        vertical-align: top;\n",
       "    }\n",
       "\n",
       "    .dataframe thead th {\n",
       "        text-align: right;\n",
       "    }\n",
       "</style>\n",
       "<table border=\"1\" class=\"dataframe\">\n",
       "  <thead>\n",
       "    <tr style=\"text-align: right;\">\n",
       "      <th></th>\n",
       "      <th>ObservationDate</th>\n",
       "      <th>Province/State</th>\n",
       "      <th>Country/Region</th>\n",
       "      <th>Last Update</th>\n",
       "      <th>Confirmed</th>\n",
       "      <th>Deaths</th>\n",
       "      <th>Recovered</th>\n",
       "    </tr>\n",
       "  </thead>\n",
       "  <tbody>\n",
       "    <tr>\n",
       "      <th>9730</th>\n",
       "      <td>03/28/2020</td>\n",
       "      <td>Wyoming</td>\n",
       "      <td>US</td>\n",
       "      <td>2020-03-28 23:11:06</td>\n",
       "      <td>82.0</td>\n",
       "      <td>0.0</td>\n",
       "      <td>0.0</td>\n",
       "    </tr>\n",
       "    <tr>\n",
       "      <th>9731</th>\n",
       "      <td>03/28/2020</td>\n",
       "      <td>Xinjiang</td>\n",
       "      <td>Mainland China</td>\n",
       "      <td>2020-03-28 23:11:06</td>\n",
       "      <td>76.0</td>\n",
       "      <td>3.0</td>\n",
       "      <td>73.0</td>\n",
       "    </tr>\n",
       "    <tr>\n",
       "      <th>9732</th>\n",
       "      <td>03/28/2020</td>\n",
       "      <td>Yukon</td>\n",
       "      <td>Canada</td>\n",
       "      <td>2020-03-28 23:11:06</td>\n",
       "      <td>4.0</td>\n",
       "      <td>0.0</td>\n",
       "      <td>0.0</td>\n",
       "    </tr>\n",
       "    <tr>\n",
       "      <th>9733</th>\n",
       "      <td>03/28/2020</td>\n",
       "      <td>Yunnan</td>\n",
       "      <td>Mainland China</td>\n",
       "      <td>2020-03-28 23:11:06</td>\n",
       "      <td>180.0</td>\n",
       "      <td>2.0</td>\n",
       "      <td>172.0</td>\n",
       "    </tr>\n",
       "    <tr>\n",
       "      <th>9734</th>\n",
       "      <td>03/28/2020</td>\n",
       "      <td>Zhejiang</td>\n",
       "      <td>Mainland China</td>\n",
       "      <td>2020-03-28 23:11:06</td>\n",
       "      <td>1251.0</td>\n",
       "      <td>1.0</td>\n",
       "      <td>1225.0</td>\n",
       "    </tr>\n",
       "  </tbody>\n",
       "</table>\n",
       "</div>"
      ],
      "text/plain": [
       "     ObservationDate Province/State  Country/Region          Last Update  \\\n",
       "9730      03/28/2020        Wyoming              US  2020-03-28 23:11:06   \n",
       "9731      03/28/2020       Xinjiang  Mainland China  2020-03-28 23:11:06   \n",
       "9732      03/28/2020          Yukon          Canada  2020-03-28 23:11:06   \n",
       "9733      03/28/2020         Yunnan  Mainland China  2020-03-28 23:11:06   \n",
       "9734      03/28/2020       Zhejiang  Mainland China  2020-03-28 23:11:06   \n",
       "\n",
       "      Confirmed  Deaths  Recovered  \n",
       "9730       82.0     0.0        0.0  \n",
       "9731       76.0     3.0       73.0  \n",
       "9732        4.0     0.0        0.0  \n",
       "9733      180.0     2.0      172.0  \n",
       "9734     1251.0     1.0     1225.0  "
      ]
     },
     "execution_count": 5,
     "metadata": {},
     "output_type": "execute_result"
    }
   ],
   "source": [
    "Y2019_China = Y2019_data.loc[Y2019_data['Country/Region'] == 'Mainland China']\n",
    "Y2019_data.tail()"
   ]
  },
  {
   "cell_type": "code",
   "execution_count": 6,
   "metadata": {
    "colab": {
     "base_uri": "https://localhost:8080/",
     "height": 206
    },
    "colab_type": "code",
    "id": "0TzUB_gnZWl6",
    "outputId": "8b74e7b3-6ff0-40dd-ffc0-0da83183ecba"
   },
   "outputs": [
    {
     "data": {
      "text/html": [
       "<div>\n",
       "<style scoped>\n",
       "    .dataframe tbody tr th:only-of-type {\n",
       "        vertical-align: middle;\n",
       "    }\n",
       "\n",
       "    .dataframe tbody tr th {\n",
       "        vertical-align: top;\n",
       "    }\n",
       "\n",
       "    .dataframe thead th {\n",
       "        text-align: right;\n",
       "    }\n",
       "</style>\n",
       "<table border=\"1\" class=\"dataframe\">\n",
       "  <thead>\n",
       "    <tr style=\"text-align: right;\">\n",
       "      <th></th>\n",
       "      <th>ObservationDate</th>\n",
       "      <th>Province/State</th>\n",
       "      <th>Country/Region</th>\n",
       "      <th>Last Update</th>\n",
       "      <th>Confirmed</th>\n",
       "      <th>Deaths</th>\n",
       "      <th>Recovered</th>\n",
       "    </tr>\n",
       "  </thead>\n",
       "  <tbody>\n",
       "    <tr>\n",
       "      <th>0</th>\n",
       "      <td>01/22/2020</td>\n",
       "      <td>Anhui</td>\n",
       "      <td>Mainland China</td>\n",
       "      <td>1/22/2020 17:00</td>\n",
       "      <td>1.0</td>\n",
       "      <td>0.0</td>\n",
       "      <td>0.0</td>\n",
       "    </tr>\n",
       "    <tr>\n",
       "      <th>1</th>\n",
       "      <td>01/22/2020</td>\n",
       "      <td>Beijing</td>\n",
       "      <td>Mainland China</td>\n",
       "      <td>1/22/2020 17:00</td>\n",
       "      <td>14.0</td>\n",
       "      <td>0.0</td>\n",
       "      <td>0.0</td>\n",
       "    </tr>\n",
       "    <tr>\n",
       "      <th>2</th>\n",
       "      <td>01/22/2020</td>\n",
       "      <td>Chongqing</td>\n",
       "      <td>Mainland China</td>\n",
       "      <td>1/22/2020 17:00</td>\n",
       "      <td>6.0</td>\n",
       "      <td>0.0</td>\n",
       "      <td>0.0</td>\n",
       "    </tr>\n",
       "    <tr>\n",
       "      <th>3</th>\n",
       "      <td>01/22/2020</td>\n",
       "      <td>Fujian</td>\n",
       "      <td>Mainland China</td>\n",
       "      <td>1/22/2020 17:00</td>\n",
       "      <td>1.0</td>\n",
       "      <td>0.0</td>\n",
       "      <td>0.0</td>\n",
       "    </tr>\n",
       "    <tr>\n",
       "      <th>4</th>\n",
       "      <td>01/22/2020</td>\n",
       "      <td>Gansu</td>\n",
       "      <td>Mainland China</td>\n",
       "      <td>1/22/2020 17:00</td>\n",
       "      <td>0.0</td>\n",
       "      <td>0.0</td>\n",
       "      <td>0.0</td>\n",
       "    </tr>\n",
       "  </tbody>\n",
       "</table>\n",
       "</div>"
      ],
      "text/plain": [
       "  ObservationDate Province/State  Country/Region      Last Update  Confirmed  \\\n",
       "0      01/22/2020          Anhui  Mainland China  1/22/2020 17:00        1.0   \n",
       "1      01/22/2020        Beijing  Mainland China  1/22/2020 17:00       14.0   \n",
       "2      01/22/2020      Chongqing  Mainland China  1/22/2020 17:00        6.0   \n",
       "3      01/22/2020         Fujian  Mainland China  1/22/2020 17:00        1.0   \n",
       "4      01/22/2020          Gansu  Mainland China  1/22/2020 17:00        0.0   \n",
       "\n",
       "   Deaths  Recovered  \n",
       "0     0.0        0.0  \n",
       "1     0.0        0.0  \n",
       "2     0.0        0.0  \n",
       "3     0.0        0.0  \n",
       "4     0.0        0.0  "
      ]
     },
     "execution_count": 6,
     "metadata": {},
     "output_type": "execute_result"
    }
   ],
   "source": [
    "Y2019_data_new = Y2019_data[Y2019_data['Last Update'] > '2/15/2020 12:00']\n",
    "Y2019_data.head()"
   ]
  },
  {
   "cell_type": "code",
   "execution_count": 7,
   "metadata": {
    "colab": {
     "base_uri": "https://localhost:8080/",
     "height": 206
    },
    "colab_type": "code",
    "id": "EqveGTEKerU3",
    "outputId": "7805462b-08f9-450a-9852-4547be8db86e"
   },
   "outputs": [
    {
     "data": {
      "text/html": [
       "<div>\n",
       "<style scoped>\n",
       "    .dataframe tbody tr th:only-of-type {\n",
       "        vertical-align: middle;\n",
       "    }\n",
       "\n",
       "    .dataframe tbody tr th {\n",
       "        vertical-align: top;\n",
       "    }\n",
       "\n",
       "    .dataframe thead th {\n",
       "        text-align: right;\n",
       "    }\n",
       "</style>\n",
       "<table border=\"1\" class=\"dataframe\">\n",
       "  <thead>\n",
       "    <tr style=\"text-align: right;\">\n",
       "      <th></th>\n",
       "      <th>ObservationDate</th>\n",
       "      <th>Province/State</th>\n",
       "      <th>Country/Region</th>\n",
       "      <th>Last Update</th>\n",
       "      <th>Confirmed</th>\n",
       "      <th>Deaths</th>\n",
       "      <th>Recovered</th>\n",
       "    </tr>\n",
       "  </thead>\n",
       "  <tbody>\n",
       "    <tr>\n",
       "      <th>8285</th>\n",
       "      <td>03/24/2020</td>\n",
       "      <td>NaN</td>\n",
       "      <td>Italy</td>\n",
       "      <td>2020-03-24 23:41:50</td>\n",
       "      <td>69176.0</td>\n",
       "      <td>6820.0</td>\n",
       "      <td>8326.0</td>\n",
       "    </tr>\n",
       "    <tr>\n",
       "      <th>8586</th>\n",
       "      <td>03/25/2020</td>\n",
       "      <td>NaN</td>\n",
       "      <td>Italy</td>\n",
       "      <td>2020-03-25 23:37:49</td>\n",
       "      <td>74386.0</td>\n",
       "      <td>7503.0</td>\n",
       "      <td>9362.0</td>\n",
       "    </tr>\n",
       "    <tr>\n",
       "      <th>8888</th>\n",
       "      <td>03/26/2020</td>\n",
       "      <td>NaN</td>\n",
       "      <td>Italy</td>\n",
       "      <td>2020-03-26 23:53:24</td>\n",
       "      <td>80589.0</td>\n",
       "      <td>8215.0</td>\n",
       "      <td>10361.0</td>\n",
       "    </tr>\n",
       "    <tr>\n",
       "      <th>9195</th>\n",
       "      <td>03/27/2020</td>\n",
       "      <td>NaN</td>\n",
       "      <td>Italy</td>\n",
       "      <td>2020-03-27 23:27:48</td>\n",
       "      <td>86498.0</td>\n",
       "      <td>9134.0</td>\n",
       "      <td>10950.0</td>\n",
       "    </tr>\n",
       "    <tr>\n",
       "      <th>9502</th>\n",
       "      <td>03/28/2020</td>\n",
       "      <td>NaN</td>\n",
       "      <td>Italy</td>\n",
       "      <td>2020-03-28 23:11:06</td>\n",
       "      <td>92472.0</td>\n",
       "      <td>10023.0</td>\n",
       "      <td>12384.0</td>\n",
       "    </tr>\n",
       "  </tbody>\n",
       "</table>\n",
       "</div>"
      ],
      "text/plain": [
       "     ObservationDate Province/State Country/Region          Last Update  \\\n",
       "8285      03/24/2020            NaN          Italy  2020-03-24 23:41:50   \n",
       "8586      03/25/2020            NaN          Italy  2020-03-25 23:37:49   \n",
       "8888      03/26/2020            NaN          Italy  2020-03-26 23:53:24   \n",
       "9195      03/27/2020            NaN          Italy  2020-03-27 23:27:48   \n",
       "9502      03/28/2020            NaN          Italy  2020-03-28 23:11:06   \n",
       "\n",
       "      Confirmed   Deaths  Recovered  \n",
       "8285    69176.0   6820.0     8326.0  \n",
       "8586    74386.0   7503.0     9362.0  \n",
       "8888    80589.0   8215.0    10361.0  \n",
       "9195    86498.0   9134.0    10950.0  \n",
       "9502    92472.0  10023.0    12384.0  "
      ]
     },
     "execution_count": 7,
     "metadata": {},
     "output_type": "execute_result"
    }
   ],
   "source": [
    "dataFrame = pd.DataFrame(Y2019_data_new)\n",
    "dataFrame = dataFrame.loc[dataFrame['Country/Region'] == 'Italy']\n",
    "dataFrame.tail()"
   ]
  },
  {
   "cell_type": "code",
   "execution_count": 8,
   "metadata": {
    "colab": {},
    "colab_type": "code",
    "id": "d38RL-VhfIBs"
   },
   "outputs": [],
   "source": [
    "newConfirmed = [0]\n",
    "newDeaths = [0]\n",
    "newRecovered = [0]\n",
    "for data in range(1, (dataFrame.Confirmed).size): \n",
    "    newConfirmed.append(dataFrame.Confirmed.tolist()[data]-dataFrame.Confirmed.tolist()[data-1])\n",
    "    newDeaths.append(dataFrame.Deaths.tolist()[data]-dataFrame.Deaths.tolist()[data-1])\n",
    "    newRecovered.append(dataFrame.Recovered.tolist()[data]-dataFrame.Recovered.tolist()[data-1])\n"
   ]
  },
  {
   "cell_type": "markdown",
   "metadata": {
    "colab_type": "text",
    "id": "BLoAZXUXgcRO"
   },
   "source": [
    "Using TensorFlow Backend for prediction of deaths and number of confirmed cases"
   ]
  },
  {
   "cell_type": "code",
   "execution_count": 9,
   "metadata": {
    "colab": {},
    "colab_type": "code",
    "id": "dAbrmQ8WglKl"
   },
   "outputs": [
    {
     "ename": "ModuleNotFoundError",
     "evalue": "No module named 'tensorflow'",
     "output_type": "error",
     "traceback": [
      "\u001b[1;31m---------------------------------------------------------------------------\u001b[0m",
      "\u001b[1;31mModuleNotFoundError\u001b[0m                       Traceback (most recent call last)",
      "\u001b[1;32m<ipython-input-9-0d6dbde30e2b>\u001b[0m in \u001b[0;36m<module>\u001b[1;34m\u001b[0m\n\u001b[0;32m      1\u001b[0m \u001b[1;32mfrom\u001b[0m \u001b[0mnumpy\u001b[0m \u001b[1;32mimport\u001b[0m \u001b[0marray\u001b[0m\u001b[1;33m\u001b[0m\u001b[1;33m\u001b[0m\u001b[0m\n\u001b[1;32m----> 2\u001b[1;33m \u001b[1;32mfrom\u001b[0m \u001b[0mtensorflow\u001b[0m\u001b[1;33m.\u001b[0m\u001b[0mpython\u001b[0m\u001b[1;33m.\u001b[0m\u001b[0mkeras\u001b[0m\u001b[1;33m.\u001b[0m\u001b[0mmodels\u001b[0m \u001b[1;32mimport\u001b[0m \u001b[0mSequential\u001b[0m\u001b[1;33m\u001b[0m\u001b[1;33m\u001b[0m\u001b[0m\n\u001b[0m\u001b[0;32m      3\u001b[0m \u001b[1;32mfrom\u001b[0m \u001b[0mtensorflow\u001b[0m\u001b[1;33m.\u001b[0m\u001b[0mpython\u001b[0m\u001b[1;33m.\u001b[0m\u001b[0mkeras\u001b[0m\u001b[1;33m.\u001b[0m\u001b[0mlayers\u001b[0m \u001b[1;32mimport\u001b[0m \u001b[0mLSTM\u001b[0m\u001b[1;33m,\u001b[0m \u001b[0mDropout\u001b[0m\u001b[1;33m,\u001b[0m \u001b[0mDense\u001b[0m\u001b[1;33m\u001b[0m\u001b[1;33m\u001b[0m\u001b[0m\n",
      "\u001b[1;31mModuleNotFoundError\u001b[0m: No module named 'tensorflow'"
     ]
    }
   ],
   "source": [
    "from numpy import array\n",
    "from tensorflow.python.keras.models import Sequential\n",
    "from tensorflow.python.keras.layers import LSTM, Dropout, Dense"
   ]
  },
  {
   "cell_type": "code",
   "execution_count": null,
   "metadata": {
    "colab": {},
    "colab_type": "code",
    "id": "5MxsByDrg6jv"
   },
   "outputs": [],
   "source": [
    "def format_sequence(sequence, n_steps):\n",
    "    X, Y = list(), list()\n",
    "    for data in range(len(sequence)):\n",
    "      end_datax = data + n_steps #End of this pattern\n",
    "      if end_datax > len(sequence) - 1:\n",
    "        break  # break if we went beyond the sequence\n",
    "      seqX, seqY = sequence[data: end_datax], sequence[end_datax]\n",
    "      X.append(seqX)\n",
    "      Y.append(seqY)\n",
    "    return array(X), array(Y)    "
   ]
  },
  {
   "cell_type": "code",
   "execution_count": null,
   "metadata": {
    "colab": {},
    "colab_type": "code",
    "id": "CLE9t4FMipeb"
   },
   "outputs": [],
   "source": [
    "unformattedSequence = np.array(newConfirmed)\n",
    "nSteps = 5\n",
    "X, Y = format_sequence(unformattedSequence, nSteps)\n",
    "\n",
    "\n",
    "nFeatures = 1\n",
    "X = X.reshape((X.shape[0], X.shape[1], nFeatures))"
   ]
  },
  {
   "cell_type": "markdown",
   "metadata": {
    "colab_type": "text",
    "id": "IJXsKHuSlrlf"
   },
   "source": [
    "Define model and adding neural network layers"
   ]
  },
  {
   "cell_type": "code",
   "execution_count": null,
   "metadata": {
    "colab": {
     "base_uri": "https://localhost:8080/",
     "height": 435
    },
    "colab_type": "code",
    "id": "VHNoH7pFlqlk",
    "outputId": "1151e0dd-d3f7-4a90-81f4-73378ae6170f"
   },
   "outputs": [],
   "source": [
    "LSTMModel = Sequential()\n",
    "LSTMModel.add(LSTM(50, activation='relu', return_sequences=True, input_shape = (nSteps, nFeatures)))\n",
    "LSTMModel.add(Dropout(0.1))\n",
    "LSTMModel.add(LSTM(50, activation='relu', return_sequences=True))\n",
    "LSTMModel.add(Dropout(0.1))\n",
    "LSTMModel.add(LSTM(50, activation='relu'))\n",
    "LSTMModel.add(Dense(1))\n",
    "\n",
    "#Added two LSTM layers\n",
    "\n",
    "start = time.time()\n",
    "LSTMModel.compile(optimizer='adam', loss='mse')\n",
    "print('Compilation time :', time.time() - start)\n",
    "print('\\n')\n",
    "LSTMModel.summary()"
   ]
  },
  {
   "cell_type": "code",
   "execution_count": null,
   "metadata": {
    "colab": {
     "base_uri": "https://localhost:8080/",
     "height": 53
    },
    "colab_type": "code",
    "id": "Yj4hslb0oWRY",
    "outputId": "d20eda47-7d64-4689-831a-0eb75e6cf0ee"
   },
   "outputs": [],
   "source": [
    "LSTMModel.fit(X,Y, epochs=300, verbose= 0)\n",
    "xInput = np.array(newConfirmed)[-nSteps:]\n",
    "xInput = xInput.reshape((1, nSteps, nFeatures))\n",
    "yHat =LSTMModel.predict(xInput, verbose=0)\n",
    "\n",
    "forecastedCases = int(round(yHat[0][0]))\n",
    "print('Case forecast for today: {}'.format(forecastedCases))\n",
    "\n",
    "predictionAccuracy = 100*(1-np.abs(forecastedCases - newConfirmed[-1])/newConfirmed[-1])\n",
    "print('Prediction accuracy: {:.2f} %'.format(predictionAccuracy))"
   ]
  },
  {
   "cell_type": "markdown",
   "metadata": {
    "colab_type": "text",
    "id": "-W7lanWrp-v_"
   },
   "source": [
    "Tomorrow forecast"
   ]
  },
  {
   "cell_type": "code",
   "execution_count": null,
   "metadata": {
    "colab": {
     "base_uri": "https://localhost:8080/",
     "height": 35
    },
    "colab_type": "code",
    "id": "MFZ54w0gqBh5",
    "outputId": "7550d532-2158-4a2c-8d92-6d1215bb1f76"
   },
   "outputs": [],
   "source": [
    "xinput2 = np.array(newConfirmed)[(-nSteps+1):]\n",
    "xinput2 = np.concatenate((xinput2, yHat), axis=None)\n",
    "xinput2 = xinput2.reshape((1, nSteps, nFeatures))\n",
    "yhat2 = LSTMModel.predict(xinput2, verbose=0)\n",
    "print('Number of cases for tomorrow {:.0f}'.format(int(yhat2[0][0])))"
   ]
  },
  {
   "cell_type": "markdown",
   "metadata": {
    "colab_type": "text",
    "id": "6tLDjpayij1B"
   },
   "source": [
    "Prediction for number of deaths"
   ]
  },
  {
   "cell_type": "code",
   "execution_count": null,
   "metadata": {
    "colab": {},
    "colab_type": "code",
    "id": "173WtY9jihf1"
   },
   "outputs": [],
   "source": [
    "rawSequence = np.array(newDeaths)\n",
    "nSteps = 4\n",
    "X, Y = format_sequence(rawSequence, nSteps)\n",
    "\n",
    "nFeatures = 1\n",
    "X = X.reshape((X.shape[0], X.shape[1], nFeatures))"
   ]
  },
  {
   "cell_type": "code",
   "execution_count": null,
   "metadata": {
    "colab": {
     "base_uri": "https://localhost:8080/",
     "height": 308
    },
    "colab_type": "code",
    "id": "6C8cuy09jMkN",
    "outputId": "625e78eb-39d3-426f-af73-9527e49e58fd"
   },
   "outputs": [],
   "source": [
    "#Model\n",
    "LSTMModel2 = Sequential()\n",
    "LSTMModel2.add(LSTM(50, activation = 'relu', return_sequences=True, input_shape= (nSteps, nFeatures)))\n",
    "LSTMModel2.add(LSTM(50, activation='relu', return_sequences=True))\n",
    "LSTMModel2.add(LSTM(50, activation= 'relu'))\n",
    "LSTMModel2.add(Dense(1))\n",
    "\n",
    "currentTime = time.time()\n",
    "LSTMModel2.compile(optimizer = 'adam', loss='mse')\n",
    "LSTMModel2.summary()"
   ]
  },
  {
   "cell_type": "markdown",
   "metadata": {
    "colab_type": "text",
    "id": "OOJJKSFRiFs1"
   },
   "source": [
    "Deaths Prediction"
   ]
  },
  {
   "cell_type": "code",
   "execution_count": null,
   "metadata": {
    "colab": {
     "base_uri": "https://localhost:8080/",
     "height": 53
    },
    "colab_type": "code",
    "id": "dnt1-4sniBT7",
    "outputId": "ab7ad860-f8a5-49eb-c1eb-e5fe154c233f"
   },
   "outputs": [],
   "source": [
    "LSTMModel2.fit(X, Y, epochs=300, verbose=0)\n",
    "\n",
    "xInput = np.array(newDeaths)[-nSteps:]\n",
    "xInput = xInput.reshape((1, nSteps, nFeatures))\n",
    "yHat2 = LSTMModel2.predict(xInput, verbose=0)\n",
    "\n",
    "deathPrediction = int(round(yHat2[0][0]))\n",
    "print('Deaths prediction for today: {}'.format(deathPrediction))\n",
    "\n",
    "predictionAccuracy = 100*(1-np.abs(deathPrediction - newDeaths[-1])/newDeaths[-1])\n",
    "print('Prediction accuracy: {:.2f} %'.format(predictionAccuracy))"
   ]
  },
  {
   "cell_type": "code",
   "execution_count": null,
   "metadata": {
    "colab": {
     "base_uri": "https://localhost:8080/",
     "height": 35
    },
    "colab_type": "code",
    "id": "MF_cQC-Dp3Pg",
    "outputId": "0a1e40c3-42b4-4dee-c4ff-c086622e44f1"
   },
   "outputs": [],
   "source": [
    "xInput2 = np.array(newDeaths)[(-nSteps+1):]\n",
    "xInput2 = np.concatenate((xInput2, yHat2), axis=None)\n",
    "xInput2 = xInput2.reshape((1, nSteps, nFeatures))\n",
    "yHat3 = LSTMModel2.predict(xInput2, verbose=0)\n",
    "print('There might be {:.0f} deaths tomorrow'.format(int(yHat3[0][0])))"
   ]
  }
 ],
 "metadata": {
  "colab": {
   "authorship_tag": "ABX9TyO6Cty6puZtGG8r0brCwR+z",
   "collapsed_sections": [],
   "include_colab_link": true,
   "name": "CS5100-COVID19-AI-Project.ipynb",
   "provenance": [],
   "toc_visible": true
  },
  "kernelspec": {
   "display_name": "Python 3",
   "language": "python",
   "name": "python3"
  },
  "language_info": {
   "codemirror_mode": {
    "name": "ipython",
    "version": 3
   },
   "file_extension": ".py",
   "mimetype": "text/x-python",
   "name": "python",
   "nbconvert_exporter": "python",
   "pygments_lexer": "ipython3",
   "version": "3.7.6"
  }
 },
 "nbformat": 4,
 "nbformat_minor": 4
}
