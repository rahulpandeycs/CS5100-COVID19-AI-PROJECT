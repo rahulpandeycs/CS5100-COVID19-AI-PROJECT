{
  "nbformat": 4,
  "nbformat_minor": 0,
  "metadata": {
    "colab": {
      "name": "CS5100-COVID19-AI-Project.ipynb",
      "provenance": [],
      "collapsed_sections": [],
      "toc_visible": true,
      "authorship_tag": "ABX9TyO6Cty6puZtGG8r0brCwR+z",
      "include_colab_link": true
    },
    "kernelspec": {
      "name": "python3",
      "display_name": "Python 3"
    }
  },
  "cells": [
    {
      "cell_type": "markdown",
      "metadata": {
        "id": "view-in-github",
        "colab_type": "text"
      },
      "source": [
        "<a href=\"https://colab.research.google.com/github/rahulpandeycs/CS5100-COVID19-AI-PROJECT/blob/master/CS5100_COVID19_AI_Project.ipynb\" target=\"_parent\"><img src=\"https://colab.research.google.com/assets/colab-badge.svg\" alt=\"Open In Colab\"/></a>"
      ]
    },
    {
      "cell_type": "code",
      "metadata": {
        "id": "Q57l8sEbE3tU",
        "colab_type": "code",
        "colab": {}
      },
      "source": [
        "import numpy as np # linear algebra\n",
        "import pandas as pd # data processing, I/O for CSV files\n",
        "import os\n",
        "import matplotlib.pyplot as plt\n",
        "import matplotlib.ticker as ticker\n",
        "import time\n",
        "import datetime as dt\n",
        "from datetime import date\n",
        "import warnings"
      ],
      "execution_count": 0,
      "outputs": []
    },
    {
      "cell_type": "markdown",
      "metadata": {
        "id": "nFCgG2GyKSmh",
        "colab_type": "text"
      },
      "source": [
        "View the list of input data"
      ]
    },
    {
      "cell_type": "code",
      "metadata": {
        "id": "WtKoTJJ7JvSc",
        "colab_type": "code",
        "colab": {}
      },
      "source": [
        "for dirname, _, filenames in os.walk('data/'):\n",
        "    for filename in filenames:\n",
        "        print(os.path.join(dirname, filename))\n",
        "warnings.filterwarnings('ignore')"
      ],
      "execution_count": 0,
      "outputs": []
    },
    {
      "cell_type": "code",
      "metadata": {
        "id": "UNxWdAJHKb83",
        "colab_type": "code",
        "colab": {
          "base_uri": "https://localhost:8080/",
          "height": 206
        },
        "outputId": "00860729-2bfe-4f2a-a388-9f56ed2624d9"
      },
      "source": [
        "Y2019_dataset_path = 'data/covid_19_data.csv'\n",
        "Y2019_data = pd.read_csv(Y2019_dataset_path)\n",
        "# Y2019_data['Last Update'] = Y2019_data['Last Update'].apply(pd.datetime)\n",
        "# Y2019_data['Last Update'] = pd.to_datetime(Y2019_data['Last Update'], format='%m/%d/%Y %H:%M')\n",
        "Y2019_data.drop(['SNo'], axis = 1, inplace = True)\n",
        "Y2019_data.tail()"
      ],
      "execution_count": 7,
      "outputs": [
        {
          "output_type": "execute_result",
          "data": {
            "text/html": [
              "<div>\n",
              "<style scoped>\n",
              "    .dataframe tbody tr th:only-of-type {\n",
              "        vertical-align: middle;\n",
              "    }\n",
              "\n",
              "    .dataframe tbody tr th {\n",
              "        vertical-align: top;\n",
              "    }\n",
              "\n",
              "    .dataframe thead th {\n",
              "        text-align: right;\n",
              "    }\n",
              "</style>\n",
              "<table border=\"1\" class=\"dataframe\">\n",
              "  <thead>\n",
              "    <tr style=\"text-align: right;\">\n",
              "      <th></th>\n",
              "      <th>ObservationDate</th>\n",
              "      <th>Province/State</th>\n",
              "      <th>Country/Region</th>\n",
              "      <th>Last Update</th>\n",
              "      <th>Confirmed</th>\n",
              "      <th>Deaths</th>\n",
              "      <th>Recovered</th>\n",
              "    </tr>\n",
              "  </thead>\n",
              "  <tbody>\n",
              "    <tr>\n",
              "      <th>9730</th>\n",
              "      <td>03/28/2020</td>\n",
              "      <td>Wyoming</td>\n",
              "      <td>US</td>\n",
              "      <td>2020-03-28 23:11:06</td>\n",
              "      <td>82.0</td>\n",
              "      <td>0.0</td>\n",
              "      <td>0.0</td>\n",
              "    </tr>\n",
              "    <tr>\n",
              "      <th>9731</th>\n",
              "      <td>03/28/2020</td>\n",
              "      <td>Xinjiang</td>\n",
              "      <td>Mainland China</td>\n",
              "      <td>2020-03-28 23:11:06</td>\n",
              "      <td>76.0</td>\n",
              "      <td>3.0</td>\n",
              "      <td>73.0</td>\n",
              "    </tr>\n",
              "    <tr>\n",
              "      <th>9732</th>\n",
              "      <td>03/28/2020</td>\n",
              "      <td>Yukon</td>\n",
              "      <td>Canada</td>\n",
              "      <td>2020-03-28 23:11:06</td>\n",
              "      <td>4.0</td>\n",
              "      <td>0.0</td>\n",
              "      <td>0.0</td>\n",
              "    </tr>\n",
              "    <tr>\n",
              "      <th>9733</th>\n",
              "      <td>03/28/2020</td>\n",
              "      <td>Yunnan</td>\n",
              "      <td>Mainland China</td>\n",
              "      <td>2020-03-28 23:11:06</td>\n",
              "      <td>180.0</td>\n",
              "      <td>2.0</td>\n",
              "      <td>172.0</td>\n",
              "    </tr>\n",
              "    <tr>\n",
              "      <th>9734</th>\n",
              "      <td>03/28/2020</td>\n",
              "      <td>Zhejiang</td>\n",
              "      <td>Mainland China</td>\n",
              "      <td>2020-03-28 23:11:06</td>\n",
              "      <td>1251.0</td>\n",
              "      <td>1.0</td>\n",
              "      <td>1225.0</td>\n",
              "    </tr>\n",
              "  </tbody>\n",
              "</table>\n",
              "</div>"
            ],
            "text/plain": [
              "     ObservationDate Province/State  ... Deaths Recovered\n",
              "9730      03/28/2020        Wyoming  ...    0.0       0.0\n",
              "9731      03/28/2020       Xinjiang  ...    3.0      73.0\n",
              "9732      03/28/2020          Yukon  ...    0.0       0.0\n",
              "9733      03/28/2020         Yunnan  ...    2.0     172.0\n",
              "9734      03/28/2020       Zhejiang  ...    1.0    1225.0\n",
              "\n",
              "[5 rows x 7 columns]"
            ]
          },
          "metadata": {
            "tags": []
          },
          "execution_count": 7
        }
      ]
    },
    {
      "cell_type": "code",
      "metadata": {
        "id": "PtruEVLAR2dn",
        "colab_type": "code",
        "colab": {
          "base_uri": "https://localhost:8080/",
          "height": 92
        },
        "outputId": "6d73f86a-d0b1-4ad4-aa8d-72c11de14f82"
      },
      "source": [
        "listOfCountries = Y2019_data['Country/Region'].unique().tolist()\n",
        "print(\"\\n Number of countries affected by COVID-19 virus: \", len(listOfCountries))\n",
        "print(listOfCountries)"
      ],
      "execution_count": 8,
      "outputs": [
        {
          "output_type": "stream",
          "text": [
            "\n",
            " Number of countries affected by COVID-19 virus:  212\n",
            "['Mainland China', 'Hong Kong', 'Macau', 'Taiwan', 'US', 'Japan', 'Thailand', 'South Korea', 'Singapore', 'Philippines', 'Malaysia', 'Vietnam', 'Australia', 'Mexico', 'Brazil', 'Colombia', 'France', 'Nepal', 'Canada', 'Cambodia', 'Sri Lanka', 'Ivory Coast', 'Germany', 'Finland', 'United Arab Emirates', 'India', 'Italy', 'UK', 'Russia', 'Sweden', 'Spain', 'Belgium', 'Others', 'Egypt', 'Iran', 'Israel', 'Lebanon', 'Iraq', 'Oman', 'Afghanistan', 'Bahrain', 'Kuwait', 'Austria', 'Algeria', 'Croatia', 'Switzerland', 'Pakistan', 'Georgia', 'Greece', 'North Macedonia', 'Norway', 'Romania', 'Denmark', 'Estonia', 'Netherlands', 'San Marino', ' Azerbaijan', 'Belarus', 'Iceland', 'Lithuania', 'New Zealand', 'Nigeria', 'North Ireland', 'Ireland', 'Luxembourg', 'Monaco', 'Qatar', 'Ecuador', 'Azerbaijan', 'Czech Republic', 'Armenia', 'Dominican Republic', 'Indonesia', 'Portugal', 'Andorra', 'Latvia', 'Morocco', 'Saudi Arabia', 'Senegal', 'Argentina', 'Chile', 'Jordan', 'Ukraine', 'Saint Barthelemy', 'Hungary', 'Faroe Islands', 'Gibraltar', 'Liechtenstein', 'Poland', 'Tunisia', 'Palestine', 'Bosnia and Herzegovina', 'Slovenia', 'South Africa', 'Bhutan', 'Cameroon', 'Costa Rica', 'Peru', 'Serbia', 'Slovakia', 'Togo', 'Vatican City', 'French Guiana', 'Malta', 'Martinique', 'Republic of Ireland', 'Bulgaria', 'Maldives', 'Bangladesh', 'Moldova', 'Paraguay', 'Albania', 'Cyprus', 'St. Martin', 'Brunei', 'occupied Palestinian territory', \"('St. Martin',)\", 'Burkina Faso', 'Channel Islands', 'Holy See', 'Mongolia', 'Panama', 'Bolivia', 'Honduras', 'Congo (Kinshasa)', 'Jamaica', 'Reunion', 'Turkey', 'Cuba', 'Guyana', 'Kazakhstan', 'Cayman Islands', 'Guadeloupe', 'Ethiopia', 'Sudan', 'Guinea', 'Antigua and Barbuda', 'Aruba', 'Kenya', 'Uruguay', 'Ghana', 'Jersey', 'Namibia', 'Seychelles', 'Trinidad and Tobago', 'Venezuela', 'Curacao', 'Eswatini', 'Gabon', 'Guatemala', 'Guernsey', 'Mauritania', 'Rwanda', 'Saint Lucia', 'Saint Vincent and the Grenadines', 'Suriname', 'Kosovo', 'Central African Republic', 'Congo (Brazzaville)', 'Equatorial Guinea', 'Uzbekistan', 'Guam', 'Puerto Rico', 'Benin', 'Greenland', 'Liberia', 'Mayotte', 'Republic of the Congo', 'Somalia', 'Tanzania', 'The Bahamas', 'Barbados', 'Montenegro', 'The Gambia', 'Kyrgyzstan', 'Mauritius', 'Zambia', 'Djibouti', 'Gambia, The', 'Bahamas, The', 'Chad', 'El Salvador', 'Fiji', 'Nicaragua', 'Madagascar', 'Haiti', 'Angola', 'Cabo Verde', 'Niger', 'Papua New Guinea', 'Zimbabwe', 'Cape Verde', 'East Timor', 'Eritrea', 'Uganda', 'Bahamas', 'Dominica', 'Gambia', 'Grenada', 'Mozambique', 'Syria', 'Timor-Leste', 'Belize', 'Laos', 'Libya', 'Diamond Princess', 'Guinea-Bissau', 'Mali', 'Saint Kitts and Nevis', 'West Bank and Gaza', 'Burma', 'MS Zaandam']\n"
          ],
          "name": "stdout"
        }
      ]
    },
    {
      "cell_type": "code",
      "metadata": {
        "id": "LC3hUxWiTPor",
        "colab_type": "code",
        "colab": {
          "base_uri": "https://localhost:8080/",
          "height": 206
        },
        "outputId": "d7f795a6-463f-431e-8947-0ad3faa10421"
      },
      "source": [
        "Y2019_China = Y2019_data.loc[Y2019_data['Country/Region'] == 'Mainland China']\n",
        "Y2019_data.tail()"
      ],
      "execution_count": 9,
      "outputs": [
        {
          "output_type": "execute_result",
          "data": {
            "text/html": [
              "<div>\n",
              "<style scoped>\n",
              "    .dataframe tbody tr th:only-of-type {\n",
              "        vertical-align: middle;\n",
              "    }\n",
              "\n",
              "    .dataframe tbody tr th {\n",
              "        vertical-align: top;\n",
              "    }\n",
              "\n",
              "    .dataframe thead th {\n",
              "        text-align: right;\n",
              "    }\n",
              "</style>\n",
              "<table border=\"1\" class=\"dataframe\">\n",
              "  <thead>\n",
              "    <tr style=\"text-align: right;\">\n",
              "      <th></th>\n",
              "      <th>ObservationDate</th>\n",
              "      <th>Province/State</th>\n",
              "      <th>Country/Region</th>\n",
              "      <th>Last Update</th>\n",
              "      <th>Confirmed</th>\n",
              "      <th>Deaths</th>\n",
              "      <th>Recovered</th>\n",
              "    </tr>\n",
              "  </thead>\n",
              "  <tbody>\n",
              "    <tr>\n",
              "      <th>9730</th>\n",
              "      <td>03/28/2020</td>\n",
              "      <td>Wyoming</td>\n",
              "      <td>US</td>\n",
              "      <td>2020-03-28 23:11:06</td>\n",
              "      <td>82.0</td>\n",
              "      <td>0.0</td>\n",
              "      <td>0.0</td>\n",
              "    </tr>\n",
              "    <tr>\n",
              "      <th>9731</th>\n",
              "      <td>03/28/2020</td>\n",
              "      <td>Xinjiang</td>\n",
              "      <td>Mainland China</td>\n",
              "      <td>2020-03-28 23:11:06</td>\n",
              "      <td>76.0</td>\n",
              "      <td>3.0</td>\n",
              "      <td>73.0</td>\n",
              "    </tr>\n",
              "    <tr>\n",
              "      <th>9732</th>\n",
              "      <td>03/28/2020</td>\n",
              "      <td>Yukon</td>\n",
              "      <td>Canada</td>\n",
              "      <td>2020-03-28 23:11:06</td>\n",
              "      <td>4.0</td>\n",
              "      <td>0.0</td>\n",
              "      <td>0.0</td>\n",
              "    </tr>\n",
              "    <tr>\n",
              "      <th>9733</th>\n",
              "      <td>03/28/2020</td>\n",
              "      <td>Yunnan</td>\n",
              "      <td>Mainland China</td>\n",
              "      <td>2020-03-28 23:11:06</td>\n",
              "      <td>180.0</td>\n",
              "      <td>2.0</td>\n",
              "      <td>172.0</td>\n",
              "    </tr>\n",
              "    <tr>\n",
              "      <th>9734</th>\n",
              "      <td>03/28/2020</td>\n",
              "      <td>Zhejiang</td>\n",
              "      <td>Mainland China</td>\n",
              "      <td>2020-03-28 23:11:06</td>\n",
              "      <td>1251.0</td>\n",
              "      <td>1.0</td>\n",
              "      <td>1225.0</td>\n",
              "    </tr>\n",
              "  </tbody>\n",
              "</table>\n",
              "</div>"
            ],
            "text/plain": [
              "     ObservationDate Province/State  ... Deaths Recovered\n",
              "9730      03/28/2020        Wyoming  ...    0.0       0.0\n",
              "9731      03/28/2020       Xinjiang  ...    3.0      73.0\n",
              "9732      03/28/2020          Yukon  ...    0.0       0.0\n",
              "9733      03/28/2020         Yunnan  ...    2.0     172.0\n",
              "9734      03/28/2020       Zhejiang  ...    1.0    1225.0\n",
              "\n",
              "[5 rows x 7 columns]"
            ]
          },
          "metadata": {
            "tags": []
          },
          "execution_count": 9
        }
      ]
    },
    {
      "cell_type": "code",
      "metadata": {
        "id": "0TzUB_gnZWl6",
        "colab_type": "code",
        "colab": {
          "base_uri": "https://localhost:8080/",
          "height": 206
        },
        "outputId": "8b74e7b3-6ff0-40dd-ffc0-0da83183ecba"
      },
      "source": [
        "Y2019_data_new = Y2019_data[Y2019_data['Last Update'] > '2/15/2020 12:00']\n",
        "Y2019_data.head()"
      ],
      "execution_count": 10,
      "outputs": [
        {
          "output_type": "execute_result",
          "data": {
            "text/html": [
              "<div>\n",
              "<style scoped>\n",
              "    .dataframe tbody tr th:only-of-type {\n",
              "        vertical-align: middle;\n",
              "    }\n",
              "\n",
              "    .dataframe tbody tr th {\n",
              "        vertical-align: top;\n",
              "    }\n",
              "\n",
              "    .dataframe thead th {\n",
              "        text-align: right;\n",
              "    }\n",
              "</style>\n",
              "<table border=\"1\" class=\"dataframe\">\n",
              "  <thead>\n",
              "    <tr style=\"text-align: right;\">\n",
              "      <th></th>\n",
              "      <th>ObservationDate</th>\n",
              "      <th>Province/State</th>\n",
              "      <th>Country/Region</th>\n",
              "      <th>Last Update</th>\n",
              "      <th>Confirmed</th>\n",
              "      <th>Deaths</th>\n",
              "      <th>Recovered</th>\n",
              "    </tr>\n",
              "  </thead>\n",
              "  <tbody>\n",
              "    <tr>\n",
              "      <th>0</th>\n",
              "      <td>01/22/2020</td>\n",
              "      <td>Anhui</td>\n",
              "      <td>Mainland China</td>\n",
              "      <td>1/22/2020 17:00</td>\n",
              "      <td>1.0</td>\n",
              "      <td>0.0</td>\n",
              "      <td>0.0</td>\n",
              "    </tr>\n",
              "    <tr>\n",
              "      <th>1</th>\n",
              "      <td>01/22/2020</td>\n",
              "      <td>Beijing</td>\n",
              "      <td>Mainland China</td>\n",
              "      <td>1/22/2020 17:00</td>\n",
              "      <td>14.0</td>\n",
              "      <td>0.0</td>\n",
              "      <td>0.0</td>\n",
              "    </tr>\n",
              "    <tr>\n",
              "      <th>2</th>\n",
              "      <td>01/22/2020</td>\n",
              "      <td>Chongqing</td>\n",
              "      <td>Mainland China</td>\n",
              "      <td>1/22/2020 17:00</td>\n",
              "      <td>6.0</td>\n",
              "      <td>0.0</td>\n",
              "      <td>0.0</td>\n",
              "    </tr>\n",
              "    <tr>\n",
              "      <th>3</th>\n",
              "      <td>01/22/2020</td>\n",
              "      <td>Fujian</td>\n",
              "      <td>Mainland China</td>\n",
              "      <td>1/22/2020 17:00</td>\n",
              "      <td>1.0</td>\n",
              "      <td>0.0</td>\n",
              "      <td>0.0</td>\n",
              "    </tr>\n",
              "    <tr>\n",
              "      <th>4</th>\n",
              "      <td>01/22/2020</td>\n",
              "      <td>Gansu</td>\n",
              "      <td>Mainland China</td>\n",
              "      <td>1/22/2020 17:00</td>\n",
              "      <td>0.0</td>\n",
              "      <td>0.0</td>\n",
              "      <td>0.0</td>\n",
              "    </tr>\n",
              "  </tbody>\n",
              "</table>\n",
              "</div>"
            ],
            "text/plain": [
              "  ObservationDate Province/State  Country/Region  ... Confirmed  Deaths  Recovered\n",
              "0      01/22/2020          Anhui  Mainland China  ...       1.0     0.0        0.0\n",
              "1      01/22/2020        Beijing  Mainland China  ...      14.0     0.0        0.0\n",
              "2      01/22/2020      Chongqing  Mainland China  ...       6.0     0.0        0.0\n",
              "3      01/22/2020         Fujian  Mainland China  ...       1.0     0.0        0.0\n",
              "4      01/22/2020          Gansu  Mainland China  ...       0.0     0.0        0.0\n",
              "\n",
              "[5 rows x 7 columns]"
            ]
          },
          "metadata": {
            "tags": []
          },
          "execution_count": 10
        }
      ]
    },
    {
      "cell_type": "code",
      "metadata": {
        "id": "EqveGTEKerU3",
        "colab_type": "code",
        "colab": {
          "base_uri": "https://localhost:8080/",
          "height": 206
        },
        "outputId": "7805462b-08f9-450a-9852-4547be8db86e"
      },
      "source": [
        "dataFrame = pd.DataFrame(Y2019_data_new)\n",
        "dataFrame = dataFrame.loc[dataFrame['Country/Region'] == 'Italy']\n",
        "dataFrame.tail()"
      ],
      "execution_count": 11,
      "outputs": [
        {
          "output_type": "execute_result",
          "data": {
            "text/html": [
              "<div>\n",
              "<style scoped>\n",
              "    .dataframe tbody tr th:only-of-type {\n",
              "        vertical-align: middle;\n",
              "    }\n",
              "\n",
              "    .dataframe tbody tr th {\n",
              "        vertical-align: top;\n",
              "    }\n",
              "\n",
              "    .dataframe thead th {\n",
              "        text-align: right;\n",
              "    }\n",
              "</style>\n",
              "<table border=\"1\" class=\"dataframe\">\n",
              "  <thead>\n",
              "    <tr style=\"text-align: right;\">\n",
              "      <th></th>\n",
              "      <th>ObservationDate</th>\n",
              "      <th>Province/State</th>\n",
              "      <th>Country/Region</th>\n",
              "      <th>Last Update</th>\n",
              "      <th>Confirmed</th>\n",
              "      <th>Deaths</th>\n",
              "      <th>Recovered</th>\n",
              "    </tr>\n",
              "  </thead>\n",
              "  <tbody>\n",
              "    <tr>\n",
              "      <th>8285</th>\n",
              "      <td>03/24/2020</td>\n",
              "      <td>NaN</td>\n",
              "      <td>Italy</td>\n",
              "      <td>2020-03-24 23:41:50</td>\n",
              "      <td>69176.0</td>\n",
              "      <td>6820.0</td>\n",
              "      <td>8326.0</td>\n",
              "    </tr>\n",
              "    <tr>\n",
              "      <th>8586</th>\n",
              "      <td>03/25/2020</td>\n",
              "      <td>NaN</td>\n",
              "      <td>Italy</td>\n",
              "      <td>2020-03-25 23:37:49</td>\n",
              "      <td>74386.0</td>\n",
              "      <td>7503.0</td>\n",
              "      <td>9362.0</td>\n",
              "    </tr>\n",
              "    <tr>\n",
              "      <th>8888</th>\n",
              "      <td>03/26/2020</td>\n",
              "      <td>NaN</td>\n",
              "      <td>Italy</td>\n",
              "      <td>2020-03-26 23:53:24</td>\n",
              "      <td>80589.0</td>\n",
              "      <td>8215.0</td>\n",
              "      <td>10361.0</td>\n",
              "    </tr>\n",
              "    <tr>\n",
              "      <th>9195</th>\n",
              "      <td>03/27/2020</td>\n",
              "      <td>NaN</td>\n",
              "      <td>Italy</td>\n",
              "      <td>2020-03-27 23:27:48</td>\n",
              "      <td>86498.0</td>\n",
              "      <td>9134.0</td>\n",
              "      <td>10950.0</td>\n",
              "    </tr>\n",
              "    <tr>\n",
              "      <th>9502</th>\n",
              "      <td>03/28/2020</td>\n",
              "      <td>NaN</td>\n",
              "      <td>Italy</td>\n",
              "      <td>2020-03-28 23:11:06</td>\n",
              "      <td>92472.0</td>\n",
              "      <td>10023.0</td>\n",
              "      <td>12384.0</td>\n",
              "    </tr>\n",
              "  </tbody>\n",
              "</table>\n",
              "</div>"
            ],
            "text/plain": [
              "     ObservationDate Province/State  ...   Deaths Recovered\n",
              "8285      03/24/2020            NaN  ...   6820.0    8326.0\n",
              "8586      03/25/2020            NaN  ...   7503.0    9362.0\n",
              "8888      03/26/2020            NaN  ...   8215.0   10361.0\n",
              "9195      03/27/2020            NaN  ...   9134.0   10950.0\n",
              "9502      03/28/2020            NaN  ...  10023.0   12384.0\n",
              "\n",
              "[5 rows x 7 columns]"
            ]
          },
          "metadata": {
            "tags": []
          },
          "execution_count": 11
        }
      ]
    },
    {
      "cell_type": "code",
      "metadata": {
        "id": "d38RL-VhfIBs",
        "colab_type": "code",
        "colab": {}
      },
      "source": [
        "newConfirmed = [0]\n",
        "newDeaths = [0]\n",
        "newRecovered = [0]\n",
        "for data in range(1, (dataFrame.Confirmed).size): \n",
        "    newConfirmed.append(dataFrame.Confirmed.tolist()[data]-dataFrame.Confirmed.tolist()[data-1])\n",
        "    newDeaths.append(dataFrame.Deaths.tolist()[data]-dataFrame.Deaths.tolist()[data-1])\n",
        "    newRecovered.append(dataFrame.Recovered.tolist()[data]-dataFrame.Recovered.tolist()[data-1])\n"
      ],
      "execution_count": 0,
      "outputs": []
    },
    {
      "cell_type": "markdown",
      "metadata": {
        "id": "BLoAZXUXgcRO",
        "colab_type": "text"
      },
      "source": [
        "Using TensorFlow Backend for prediction of deaths and number of confirmed cases"
      ]
    },
    {
      "cell_type": "code",
      "metadata": {
        "id": "dAbrmQ8WglKl",
        "colab_type": "code",
        "colab": {}
      },
      "source": [
        "from numpy import array\n",
        "from tensorflow.python.keras.models import Sequential\n",
        "from tensorflow.python.keras.layers import LSTM, Dropout, Dense"
      ],
      "execution_count": 0,
      "outputs": []
    },
    {
      "cell_type": "code",
      "metadata": {
        "id": "5MxsByDrg6jv",
        "colab_type": "code",
        "colab": {}
      },
      "source": [
        "def format_sequence(sequence, n_steps):\n",
        "    X, Y = list(), list()\n",
        "    for data in range(len(sequence)):\n",
        "      end_datax = data + n_steps #End of this pattern\n",
        "      if end_datax > len(sequence) - 1:\n",
        "        break  # break if we went beyond the sequence\n",
        "      seqX, seqY = sequence[data: end_datax], sequence[end_datax]\n",
        "      X.append(seqX)\n",
        "      Y.append(seqY)\n",
        "    return array(X), array(Y)    "
      ],
      "execution_count": 0,
      "outputs": []
    },
    {
      "cell_type": "code",
      "metadata": {
        "id": "CLE9t4FMipeb",
        "colab_type": "code",
        "colab": {}
      },
      "source": [
        "unformattedSequence = np.array(newConfirmed)\n",
        "nSteps = 5\n",
        "X, Y = format_sequence(unformattedSequence, nSteps)\n",
        "\n",
        "\n",
        "nFeatures = 1\n",
        "X = X.reshape((X.shape[0], X.shape[1], nFeatures))"
      ],
      "execution_count": 0,
      "outputs": []
    },
    {
      "cell_type": "markdown",
      "metadata": {
        "id": "IJXsKHuSlrlf",
        "colab_type": "text"
      },
      "source": [
        "Define model and adding neural network layers"
      ]
    },
    {
      "cell_type": "code",
      "metadata": {
        "id": "VHNoH7pFlqlk",
        "colab_type": "code",
        "colab": {
          "base_uri": "https://localhost:8080/",
          "height": 435
        },
        "outputId": "1151e0dd-d3f7-4a90-81f4-73378ae6170f"
      },
      "source": [
        "LSTMModel = Sequential()\n",
        "LSTMModel.add(LSTM(50, activation='relu', return_sequences=True, input_shape = (nSteps, nFeatures)))\n",
        "LSTMModel.add(Dropout(0.1))\n",
        "LSTMModel.add(LSTM(50, activation='relu', return_sequences=True))\n",
        "LSTMModel.add(Dropout(0.1))\n",
        "LSTMModel.add(LSTM(50, activation='relu'))\n",
        "LSTMModel.add(Dense(1))\n",
        "\n",
        "#Added two LSTM layers\n",
        "\n",
        "start = time.time()\n",
        "LSTMModel.compile(optimizer='adam', loss='mse')\n",
        "print('Compilation time :', time.time() - start)\n",
        "print('\\n')\n",
        "LSTMModel.summary()"
      ],
      "execution_count": 16,
      "outputs": [
        {
          "output_type": "stream",
          "text": [
            "Compilation time : 0.012489795684814453\n",
            "\n",
            "\n",
            "Model: \"sequential\"\n",
            "_________________________________________________________________\n",
            "Layer (type)                 Output Shape              Param #   \n",
            "=================================================================\n",
            "lstm (LSTM)                  (None, 5, 50)             10400     \n",
            "_________________________________________________________________\n",
            "dropout (Dropout)            (None, 5, 50)             0         \n",
            "_________________________________________________________________\n",
            "lstm_1 (LSTM)                (None, 5, 50)             20200     \n",
            "_________________________________________________________________\n",
            "dropout_1 (Dropout)          (None, 5, 50)             0         \n",
            "_________________________________________________________________\n",
            "lstm_2 (LSTM)                (None, 50)                20200     \n",
            "_________________________________________________________________\n",
            "dense (Dense)                (None, 1)                 51        \n",
            "=================================================================\n",
            "Total params: 50,851\n",
            "Trainable params: 50,851\n",
            "Non-trainable params: 0\n",
            "_________________________________________________________________\n"
          ],
          "name": "stdout"
        }
      ]
    },
    {
      "cell_type": "code",
      "metadata": {
        "id": "Yj4hslb0oWRY",
        "colab_type": "code",
        "colab": {
          "base_uri": "https://localhost:8080/",
          "height": 53
        },
        "outputId": "d20eda47-7d64-4689-831a-0eb75e6cf0ee"
      },
      "source": [
        "LSTMModel.fit(X,Y, epochs=300, verbose= 0)\n",
        "xInput = np.array(newConfirmed)[-nSteps:]\n",
        "xInput = xInput.reshape((1, nSteps, nFeatures))\n",
        "yHat =LSTMModel.predict(xInput, verbose=0)\n",
        "\n",
        "forecastedCases = int(round(yHat[0][0]))\n",
        "print('Case forecast for today: {}'.format(forecastedCases))\n",
        "\n",
        "predictionAccuracy = 100*(1-np.abs(forecastedCases - newConfirmed[-1])/newConfirmed[-1])\n",
        "print('Prediction accuracy: {:.2f} %'.format(predictionAccuracy))"
      ],
      "execution_count": 22,
      "outputs": [
        {
          "output_type": "stream",
          "text": [
            "Case forecast for today: 6091\n",
            "Prediction accuracy: 98.04 %\n"
          ],
          "name": "stdout"
        }
      ]
    },
    {
      "cell_type": "markdown",
      "metadata": {
        "id": "-W7lanWrp-v_",
        "colab_type": "text"
      },
      "source": [
        "Tomorrow forecast"
      ]
    },
    {
      "cell_type": "code",
      "metadata": {
        "id": "MFZ54w0gqBh5",
        "colab_type": "code",
        "colab": {
          "base_uri": "https://localhost:8080/",
          "height": 35
        },
        "outputId": "7550d532-2158-4a2c-8d92-6d1215bb1f76"
      },
      "source": [
        "xinput2 = np.array(newConfirmed)[(-nSteps+1):]\n",
        "xinput2 = np.concatenate((xinput2, yHat), axis=None)\n",
        "xinput2 = xinput2.reshape((1, nSteps, nFeatures))\n",
        "yhat2 = LSTMModel.predict(xinput2, verbose=0)\n",
        "print('Number of cases for tomorrow {:.0f}'.format(int(yhat2[0][0])))"
      ],
      "execution_count": 23,
      "outputs": [
        {
          "output_type": "stream",
          "text": [
            "Number of cases for tomorrow 5350\n"
          ],
          "name": "stdout"
        }
      ]
    },
    {
      "cell_type": "markdown",
      "metadata": {
        "id": "6tLDjpayij1B",
        "colab_type": "text"
      },
      "source": [
        "Prediction for number of deaths"
      ]
    },
    {
      "cell_type": "code",
      "metadata": {
        "id": "173WtY9jihf1",
        "colab_type": "code",
        "colab": {}
      },
      "source": [
        "rawSequence = np.array(newDeaths)\n",
        "nSteps = 4\n",
        "X, Y = format_sequence(rawSequence, nSteps)\n",
        "\n",
        "nFeatures = 1\n",
        "X = X.reshape((X.shape[0], X.shape[1], nFeatures))"
      ],
      "execution_count": 0,
      "outputs": []
    },
    {
      "cell_type": "code",
      "metadata": {
        "id": "6C8cuy09jMkN",
        "colab_type": "code",
        "colab": {
          "base_uri": "https://localhost:8080/",
          "height": 308
        },
        "outputId": "625e78eb-39d3-426f-af73-9527e49e58fd"
      },
      "source": [
        "#Model\n",
        "LSTMModel2 = Sequential()\n",
        "LSTMModel2.add(LSTM(50, activation = 'relu', return_sequences=True, input_shape= (nSteps, nFeatures)))\n",
        "LSTMModel2.add(LSTM(50, activation='relu', return_sequences=True))\n",
        "LSTMModel2.add(LSTM(50, activation= 'relu'))\n",
        "LSTMModel2.add(Dense(1))\n",
        "\n",
        "currentTime = time.time()\n",
        "LSTMModel2.compile(optimizer = 'adam', loss='mse')\n",
        "LSTMModel2.summary()"
      ],
      "execution_count": 25,
      "outputs": [
        {
          "output_type": "stream",
          "text": [
            "Model: \"sequential_1\"\n",
            "_________________________________________________________________\n",
            "Layer (type)                 Output Shape              Param #   \n",
            "=================================================================\n",
            "lstm_3 (LSTM)                (None, 4, 50)             10400     \n",
            "_________________________________________________________________\n",
            "lstm_4 (LSTM)                (None, 4, 50)             20200     \n",
            "_________________________________________________________________\n",
            "lstm_5 (LSTM)                (None, 50)                20200     \n",
            "_________________________________________________________________\n",
            "dense_1 (Dense)              (None, 1)                 51        \n",
            "=================================================================\n",
            "Total params: 50,851\n",
            "Trainable params: 50,851\n",
            "Non-trainable params: 0\n",
            "_________________________________________________________________\n"
          ],
          "name": "stdout"
        }
      ]
    },
    {
      "cell_type": "markdown",
      "metadata": {
        "id": "OOJJKSFRiFs1",
        "colab_type": "text"
      },
      "source": [
        "Deaths Prediction"
      ]
    },
    {
      "cell_type": "code",
      "metadata": {
        "id": "dnt1-4sniBT7",
        "colab_type": "code",
        "colab": {
          "base_uri": "https://localhost:8080/",
          "height": 53
        },
        "outputId": "ab7ad860-f8a5-49eb-c1eb-e5fe154c233f"
      },
      "source": [
        "LSTMModel2.fit(X, Y, epochs=300, verbose=0)\n",
        "\n",
        "xInput = np.array(newDeaths)[-nSteps:]\n",
        "xInput = xInput.reshape((1, nSteps, nFeatures))\n",
        "yHat2 = LSTMModel2.predict(xInput, verbose=0)\n",
        "\n",
        "deathPrediction = int(round(yHat2[0][0]))\n",
        "print('Deaths prediction for today: {}'.format(deathPrediction))\n",
        "\n",
        "predictionAccuracy = 100*(1-np.abs(deathPrediction - newDeaths[-1])/newDeaths[-1])\n",
        "print('Prediction accuracy: {:.2f} %'.format(predictionAccuracy))"
      ],
      "execution_count": 36,
      "outputs": [
        {
          "output_type": "stream",
          "text": [
            "Deaths prediction for today: 912\n",
            "Prediction accuracy: 97.41 %\n"
          ],
          "name": "stdout"
        }
      ]
    },
    {
      "cell_type": "code",
      "metadata": {
        "id": "MF_cQC-Dp3Pg",
        "colab_type": "code",
        "colab": {
          "base_uri": "https://localhost:8080/",
          "height": 35
        },
        "outputId": "0a1e40c3-42b4-4dee-c4ff-c086622e44f1"
      },
      "source": [
        "xInput2 = np.array(newDeaths)[(-nSteps+1):]\n",
        "xInput2 = np.concatenate((xInput2, yHat2), axis=None)\n",
        "xInput2 = xInput2.reshape((1, nSteps, nFeatures))\n",
        "yHat3 = LSTMModel2.predict(xInput2, verbose=0)\n",
        "print('There might be {:.0f} deaths tomorrow'.format(int(yHat3[0][0])))"
      ],
      "execution_count": 39,
      "outputs": [
        {
          "output_type": "stream",
          "text": [
            "There might be 1144 deaths tomorrow\n"
          ],
          "name": "stdout"
        }
      ]
    }
  ]
}